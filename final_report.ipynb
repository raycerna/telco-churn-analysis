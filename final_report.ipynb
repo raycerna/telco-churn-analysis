{
 "cells": [
  {
   "cell_type": "code",
   "execution_count": 1,
   "id": "fb4c4a11",
   "metadata": {},
   "outputs": [],
   "source": [
    "import pandas as pd\n",
    "import numpy as np\n",
    "\n",
    "import seaborn as sns\n",
    "import matplotlib.pyplot as plt\n",
    "plt.rc('figure', figsize=(11, 9))\n",
    "plt.rc('font', size=13)\n",
    "\n",
    "from sklearn.model_selection import train_test_split\n",
    "from sklearn.linear_model import LogisticRegression\n",
    "from sklearn.tree import DecisionTreeClassifier\n",
    "from sklearn.neighbors import KNeighborsClassifier\n",
    "from sklearn.ensemble import RandomForestClassifier\n",
    "from sklearn.metrics import classification_report, confusion_matrix, precision_score, recall_score, accuracy_score\n",
    "from scipy.stats import chi2_contingency\n",
    "from scipy.stats import ttest_1samp\n",
    "from scipy import stats\n",
    "\n",
    "import warnings\n",
    "warnings.filterwarnings(\"ignore\")\n",
    "\n",
    "from env import host, user, password\n",
    "from pydataset import data\n",
    "import acquire\n",
    "import prepare"
   ]
  },
  {
   "cell_type": "markdown",
   "id": "b0777bf0",
   "metadata": {},
   "source": [
    "Final Report (.ipynb) (see details above in the \"Jupyter Notebook Report\"\n",
    "\n",
    "A Report that has filtered out all the extraneous elements not necessary to include in the report.\n",
    "\n",
    "Use markdown throughout the notebook to guide the audience. Assume the reader will not read your code blocks as you think about how much markdown guidance do you need.\n",
    "\n",
    "Then, assume another reader will read ALL of your code, so make sure it is very very clearly commented. All cells with code need comments.\n",
    "\n",
    "Your notebook should begin with a project overview and goals and end with a conclusion that talks about your original goals and how you reached those (or didn't), the key findings, recommendations and next steps (\"If I had more time, I would...\")\n",
    "\n",
    "Exploration should be refined in the report because now you know which visualizations and tests led to valuable outcomes.\n",
    "\n",
    "Include at least 4 visualizations in the form of:\n",
    "\n",
    "Question in markdown that you want to answer\n",
    "\n",
    "visualization\n",
    "\n",
    "statistical test (in at least 2 of your 4)\n",
    "\n",
    "Provide your clear answer or takeaway in markdown and natural language to the question based on your exploration.\n",
    "\n",
    "Provide the context of the target variable through a visualization (distribution of the values, e.g.)\n",
    "\n",
    "Include your 3 best models in the final notebook to review. Show the steps and code you went through to fit the models, evaluate, and select.\n",
    "\n",
    "On your best model, a chart visualizing how it performed on test would be valuable."
   ]
  },
  {
   "cell_type": "code",
   "execution_count": 13,
   "id": "459e92f4",
   "metadata": {},
   "outputs": [],
   "source": [
    "# acquire telco_df from acquire.py\n",
    "telco_df = acquire.get_telco_data()"
   ]
  },
  {
   "cell_type": "code",
   "execution_count": 3,
   "id": "95e8573b",
   "metadata": {},
   "outputs": [],
   "source": [
    "# steps used to prepare data from prepare.py\n",
    "telco_df = prepare.prep_telco_data(telco_df)"
   ]
  },
  {
   "cell_type": "code",
   "execution_count": 4,
   "id": "13aa708c",
   "metadata": {},
   "outputs": [],
   "source": [
    "train, validate, test = prepare.split_telco_data(telco_df)"
   ]
  },
  {
   "cell_type": "code",
   "execution_count": 14,
   "id": "f7afad5f",
   "metadata": {},
   "outputs": [
    {
     "data": {
      "text/plain": [
       "(3937, 24)"
      ]
     },
     "execution_count": 14,
     "metadata": {},
     "output_type": "execute_result"
    }
   ],
   "source": [
    "train.shape"
   ]
  },
  {
   "cell_type": "code",
   "execution_count": 11,
   "id": "975149e5",
   "metadata": {},
   "outputs": [
    {
     "data": {
      "text/plain": [
       "(1688, 24)"
      ]
     },
     "execution_count": 11,
     "metadata": {},
     "output_type": "execute_result"
    }
   ],
   "source": [
    "validate.shape"
   ]
  },
  {
   "cell_type": "code",
   "execution_count": 12,
   "id": "49139282",
   "metadata": {},
   "outputs": [
    {
     "data": {
      "text/plain": [
       "(1407, 24)"
      ]
     },
     "execution_count": 12,
     "metadata": {},
     "output_type": "execute_result"
    }
   ],
   "source": [
    "test.shape"
   ]
  },
  {
   "cell_type": "markdown",
   "id": "bfad3b16",
   "metadata": {},
   "source": [
    "# Project Overview"
   ]
  },
  {
   "cell_type": "markdown",
   "id": "f6fef254",
   "metadata": {},
   "source": [
    "### Customer churn, also known as customer attrition, customer turnover, or customer defection, is the loss of clients or customers. In the telecommunication industry it is critical to retain customers because it is often more costly to acquire new ones. The goal of this project is to find identify those drivers which cause customer churn at Telco."
   ]
  },
  {
   "cell_type": "markdown",
   "id": "ff5754ae",
   "metadata": {},
   "source": [
    "- Can customers who use online security, tech support, and device protection indicate whether they will churn or not?"
   ]
  },
  {
   "cell_type": "code",
   "execution_count": null,
   "id": "13cd4ed9",
   "metadata": {},
   "outputs": [],
   "source": []
  },
  {
   "cell_type": "code",
   "execution_count": null,
   "id": "8410e4a2",
   "metadata": {},
   "outputs": [],
   "source": [
    "### "
   ]
  }
 ],
 "metadata": {
  "kernelspec": {
   "display_name": "Python 3 (ipykernel)",
   "language": "python",
   "name": "python3"
  },
  "language_info": {
   "codemirror_mode": {
    "name": "ipython",
    "version": 3
   },
   "file_extension": ".py",
   "mimetype": "text/x-python",
   "name": "python",
   "nbconvert_exporter": "python",
   "pygments_lexer": "ipython3",
   "version": "3.9.7"
  }
 },
 "nbformat": 4,
 "nbformat_minor": 5
}
