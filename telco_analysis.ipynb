{
 "cells": [
  {
   "cell_type": "code",
   "execution_count": 1,
   "id": "d4824e1c",
   "metadata": {},
   "outputs": [],
   "source": [
    "import pandas as pd\n",
    "import numpy as np\n",
    "\n",
    "import seaborn as sns\n",
    "import matplotlib.pyplot as plt\n",
    "plt.rc('figure', figsize=(11, 9))\n",
    "plt.rc('font', size=13)\n",
    "\n",
    "from sklearn.model_selection import train_test_split\n",
    "from sklearn.preprocessing import LabelEncoder\n",
    "from sklearn.preprocessing import MinMaxScaler\n",
    "from sklearn.impute import SimpleImputer\n",
    "from sklearn.preprocessing import OneHotEncoder\n",
    "from sklearn.linear_model import LogisticRegression\n",
    "from sklearn.tree import DecisionTreeClassifier\n",
    "from sklearn.dummy import DummyClassifier\n",
    "from sklearn.neighbors import KNeighborsClassifier\n",
    "from sklearn import svm\n",
    "from sklearn.svm import SVC\n",
    "from sklearn.ensemble import RandomForestClassifier\n",
    "from sklearn.ensemble import GradientBoostingClassifier\n",
    "from sklearn.model_selection import RandomizedSearchCV\n",
    "from sklearn.metrics import classification_report, confusion_matrix, precision_score, recall_score, accuracy_score\n",
    "from scipy.stats import chi2_contingency\n",
    "from scipy.stats import ttest_1samp\n",
    "from scipy import stats\n",
    "\n",
    "import warnings\n",
    "warnings.filterwarnings(\"ignore\")\n",
    "\n",
    "from env import host, user, password\n",
    "from pydataset import data\n",
    "import acquire\n",
    "import prepare\n",
    "\n",
    "from prepare import percentage_stacked_plot\n",
    "from prepare import draw_roc"
   ]
  },
  {
   "cell_type": "markdown",
   "id": "203dc2c7",
   "metadata": {},
   "source": [
    "# Step 1 - Acquire Data"
   ]
  },
  {
   "cell_type": "markdown",
   "id": "17a4f521",
   "metadata": {},
   "source": [
    "#### Displaying and inspecting data before prepare phase"
   ]
  },
  {
   "cell_type": "code",
   "execution_count": 2,
   "id": "85e7abdb",
   "metadata": {
    "scrolled": false
   },
   "outputs": [
    {
     "data": {
      "text/html": [
       "<div>\n",
       "<style scoped>\n",
       "    .dataframe tbody tr th:only-of-type {\n",
       "        vertical-align: middle;\n",
       "    }\n",
       "\n",
       "    .dataframe tbody tr th {\n",
       "        vertical-align: top;\n",
       "    }\n",
       "\n",
       "    .dataframe thead th {\n",
       "        text-align: right;\n",
       "    }\n",
       "</style>\n",
       "<table border=\"1\" class=\"dataframe\">\n",
       "  <thead>\n",
       "    <tr style=\"text-align: right;\">\n",
       "      <th></th>\n",
       "      <th>contract_type_id</th>\n",
       "      <th>internet_service_type_id</th>\n",
       "      <th>customer_id</th>\n",
       "      <th>gender</th>\n",
       "      <th>senior_citizen</th>\n",
       "      <th>partner</th>\n",
       "      <th>dependents</th>\n",
       "      <th>tenure</th>\n",
       "      <th>phone_service</th>\n",
       "      <th>multiple_lines</th>\n",
       "      <th>...</th>\n",
       "      <th>tech_support</th>\n",
       "      <th>streaming_tv</th>\n",
       "      <th>streaming_movies</th>\n",
       "      <th>paperless_billing</th>\n",
       "      <th>monthly_charges</th>\n",
       "      <th>total_charges</th>\n",
       "      <th>churn</th>\n",
       "      <th>internet_service_type</th>\n",
       "      <th>contract_type</th>\n",
       "      <th>payment_type</th>\n",
       "    </tr>\n",
       "    <tr>\n",
       "      <th>payment_type_id</th>\n",
       "      <th></th>\n",
       "      <th></th>\n",
       "      <th></th>\n",
       "      <th></th>\n",
       "      <th></th>\n",
       "      <th></th>\n",
       "      <th></th>\n",
       "      <th></th>\n",
       "      <th></th>\n",
       "      <th></th>\n",
       "      <th></th>\n",
       "      <th></th>\n",
       "      <th></th>\n",
       "      <th></th>\n",
       "      <th></th>\n",
       "      <th></th>\n",
       "      <th></th>\n",
       "      <th></th>\n",
       "      <th></th>\n",
       "      <th></th>\n",
       "      <th></th>\n",
       "    </tr>\n",
       "  </thead>\n",
       "  <tbody>\n",
       "    <tr>\n",
       "      <th>2</th>\n",
       "      <td>2</td>\n",
       "      <td>1</td>\n",
       "      <td>0002-ORFBO</td>\n",
       "      <td>Female</td>\n",
       "      <td>0</td>\n",
       "      <td>Yes</td>\n",
       "      <td>Yes</td>\n",
       "      <td>9</td>\n",
       "      <td>Yes</td>\n",
       "      <td>No</td>\n",
       "      <td>...</td>\n",
       "      <td>Yes</td>\n",
       "      <td>Yes</td>\n",
       "      <td>No</td>\n",
       "      <td>Yes</td>\n",
       "      <td>65.6</td>\n",
       "      <td>593.3</td>\n",
       "      <td>No</td>\n",
       "      <td>DSL</td>\n",
       "      <td>One year</td>\n",
       "      <td>Mailed check</td>\n",
       "    </tr>\n",
       "    <tr>\n",
       "      <th>2</th>\n",
       "      <td>1</td>\n",
       "      <td>1</td>\n",
       "      <td>0003-MKNFE</td>\n",
       "      <td>Male</td>\n",
       "      <td>0</td>\n",
       "      <td>No</td>\n",
       "      <td>No</td>\n",
       "      <td>9</td>\n",
       "      <td>Yes</td>\n",
       "      <td>Yes</td>\n",
       "      <td>...</td>\n",
       "      <td>No</td>\n",
       "      <td>No</td>\n",
       "      <td>Yes</td>\n",
       "      <td>No</td>\n",
       "      <td>59.9</td>\n",
       "      <td>542.4</td>\n",
       "      <td>No</td>\n",
       "      <td>DSL</td>\n",
       "      <td>Month-to-month</td>\n",
       "      <td>Mailed check</td>\n",
       "    </tr>\n",
       "    <tr>\n",
       "      <th>1</th>\n",
       "      <td>1</td>\n",
       "      <td>2</td>\n",
       "      <td>0004-TLHLJ</td>\n",
       "      <td>Male</td>\n",
       "      <td>0</td>\n",
       "      <td>No</td>\n",
       "      <td>No</td>\n",
       "      <td>4</td>\n",
       "      <td>Yes</td>\n",
       "      <td>No</td>\n",
       "      <td>...</td>\n",
       "      <td>No</td>\n",
       "      <td>No</td>\n",
       "      <td>No</td>\n",
       "      <td>Yes</td>\n",
       "      <td>73.9</td>\n",
       "      <td>280.85</td>\n",
       "      <td>Yes</td>\n",
       "      <td>Fiber optic</td>\n",
       "      <td>Month-to-month</td>\n",
       "      <td>Electronic check</td>\n",
       "    </tr>\n",
       "    <tr>\n",
       "      <th>1</th>\n",
       "      <td>1</td>\n",
       "      <td>2</td>\n",
       "      <td>0011-IGKFF</td>\n",
       "      <td>Male</td>\n",
       "      <td>1</td>\n",
       "      <td>Yes</td>\n",
       "      <td>No</td>\n",
       "      <td>13</td>\n",
       "      <td>Yes</td>\n",
       "      <td>No</td>\n",
       "      <td>...</td>\n",
       "      <td>No</td>\n",
       "      <td>Yes</td>\n",
       "      <td>Yes</td>\n",
       "      <td>Yes</td>\n",
       "      <td>98.0</td>\n",
       "      <td>1237.85</td>\n",
       "      <td>Yes</td>\n",
       "      <td>Fiber optic</td>\n",
       "      <td>Month-to-month</td>\n",
       "      <td>Electronic check</td>\n",
       "    </tr>\n",
       "    <tr>\n",
       "      <th>2</th>\n",
       "      <td>1</td>\n",
       "      <td>2</td>\n",
       "      <td>0013-EXCHZ</td>\n",
       "      <td>Female</td>\n",
       "      <td>1</td>\n",
       "      <td>Yes</td>\n",
       "      <td>No</td>\n",
       "      <td>3</td>\n",
       "      <td>Yes</td>\n",
       "      <td>No</td>\n",
       "      <td>...</td>\n",
       "      <td>Yes</td>\n",
       "      <td>Yes</td>\n",
       "      <td>No</td>\n",
       "      <td>Yes</td>\n",
       "      <td>83.9</td>\n",
       "      <td>267.4</td>\n",
       "      <td>Yes</td>\n",
       "      <td>Fiber optic</td>\n",
       "      <td>Month-to-month</td>\n",
       "      <td>Mailed check</td>\n",
       "    </tr>\n",
       "  </tbody>\n",
       "</table>\n",
       "<p>5 rows × 23 columns</p>\n",
       "</div>"
      ],
      "text/plain": [
       "                 contract_type_id  internet_service_type_id customer_id  \\\n",
       "payment_type_id                                                           \n",
       "2                               2                         1  0002-ORFBO   \n",
       "2                               1                         1  0003-MKNFE   \n",
       "1                               1                         2  0004-TLHLJ   \n",
       "1                               1                         2  0011-IGKFF   \n",
       "2                               1                         2  0013-EXCHZ   \n",
       "\n",
       "                 gender  senior_citizen partner dependents  tenure  \\\n",
       "payment_type_id                                                      \n",
       "2                Female               0     Yes        Yes       9   \n",
       "2                  Male               0      No         No       9   \n",
       "1                  Male               0      No         No       4   \n",
       "1                  Male               1     Yes         No      13   \n",
       "2                Female               1     Yes         No       3   \n",
       "\n",
       "                phone_service multiple_lines  ... tech_support streaming_tv  \\\n",
       "payment_type_id                               ...                             \n",
       "2                         Yes             No  ...          Yes          Yes   \n",
       "2                         Yes            Yes  ...           No           No   \n",
       "1                         Yes             No  ...           No           No   \n",
       "1                         Yes             No  ...           No          Yes   \n",
       "2                         Yes             No  ...          Yes          Yes   \n",
       "\n",
       "                streaming_movies paperless_billing monthly_charges  \\\n",
       "payment_type_id                                                      \n",
       "2                             No               Yes            65.6   \n",
       "2                            Yes                No            59.9   \n",
       "1                             No               Yes            73.9   \n",
       "1                            Yes               Yes            98.0   \n",
       "2                             No               Yes            83.9   \n",
       "\n",
       "                total_charges churn  internet_service_type   contract_type  \\\n",
       "payment_type_id                                                              \n",
       "2                       593.3    No                    DSL        One year   \n",
       "2                       542.4    No                    DSL  Month-to-month   \n",
       "1                      280.85   Yes            Fiber optic  Month-to-month   \n",
       "1                     1237.85   Yes            Fiber optic  Month-to-month   \n",
       "2                       267.4   Yes            Fiber optic  Month-to-month   \n",
       "\n",
       "                     payment_type  \n",
       "payment_type_id                    \n",
       "2                    Mailed check  \n",
       "2                    Mailed check  \n",
       "1                Electronic check  \n",
       "1                Electronic check  \n",
       "2                    Mailed check  \n",
       "\n",
       "[5 rows x 23 columns]"
      ]
     },
     "execution_count": 2,
     "metadata": {},
     "output_type": "execute_result"
    }
   ],
   "source": [
    "telco_df = acquire.get_telco_data()\n",
    "telco_df.head()"
   ]
  },
  {
   "cell_type": "code",
   "execution_count": 3,
   "id": "6137796d",
   "metadata": {},
   "outputs": [
    {
     "data": {
      "text/html": [
       "<div>\n",
       "<style scoped>\n",
       "    .dataframe tbody tr th:only-of-type {\n",
       "        vertical-align: middle;\n",
       "    }\n",
       "\n",
       "    .dataframe tbody tr th {\n",
       "        vertical-align: top;\n",
       "    }\n",
       "\n",
       "    .dataframe thead th {\n",
       "        text-align: right;\n",
       "    }\n",
       "</style>\n",
       "<table border=\"1\" class=\"dataframe\">\n",
       "  <thead>\n",
       "    <tr style=\"text-align: right;\">\n",
       "      <th>payment_type_id</th>\n",
       "      <th>2</th>\n",
       "      <th>2</th>\n",
       "      <th>1</th>\n",
       "      <th>1</th>\n",
       "      <th>2</th>\n",
       "    </tr>\n",
       "  </thead>\n",
       "  <tbody>\n",
       "    <tr>\n",
       "      <th>contract_type_id</th>\n",
       "      <td>2</td>\n",
       "      <td>1</td>\n",
       "      <td>1</td>\n",
       "      <td>1</td>\n",
       "      <td>1</td>\n",
       "    </tr>\n",
       "    <tr>\n",
       "      <th>internet_service_type_id</th>\n",
       "      <td>1</td>\n",
       "      <td>1</td>\n",
       "      <td>2</td>\n",
       "      <td>2</td>\n",
       "      <td>2</td>\n",
       "    </tr>\n",
       "    <tr>\n",
       "      <th>customer_id</th>\n",
       "      <td>0002-ORFBO</td>\n",
       "      <td>0003-MKNFE</td>\n",
       "      <td>0004-TLHLJ</td>\n",
       "      <td>0011-IGKFF</td>\n",
       "      <td>0013-EXCHZ</td>\n",
       "    </tr>\n",
       "    <tr>\n",
       "      <th>gender</th>\n",
       "      <td>Female</td>\n",
       "      <td>Male</td>\n",
       "      <td>Male</td>\n",
       "      <td>Male</td>\n",
       "      <td>Female</td>\n",
       "    </tr>\n",
       "    <tr>\n",
       "      <th>senior_citizen</th>\n",
       "      <td>0</td>\n",
       "      <td>0</td>\n",
       "      <td>0</td>\n",
       "      <td>1</td>\n",
       "      <td>1</td>\n",
       "    </tr>\n",
       "    <tr>\n",
       "      <th>partner</th>\n",
       "      <td>Yes</td>\n",
       "      <td>No</td>\n",
       "      <td>No</td>\n",
       "      <td>Yes</td>\n",
       "      <td>Yes</td>\n",
       "    </tr>\n",
       "    <tr>\n",
       "      <th>dependents</th>\n",
       "      <td>Yes</td>\n",
       "      <td>No</td>\n",
       "      <td>No</td>\n",
       "      <td>No</td>\n",
       "      <td>No</td>\n",
       "    </tr>\n",
       "    <tr>\n",
       "      <th>tenure</th>\n",
       "      <td>9</td>\n",
       "      <td>9</td>\n",
       "      <td>4</td>\n",
       "      <td>13</td>\n",
       "      <td>3</td>\n",
       "    </tr>\n",
       "    <tr>\n",
       "      <th>phone_service</th>\n",
       "      <td>Yes</td>\n",
       "      <td>Yes</td>\n",
       "      <td>Yes</td>\n",
       "      <td>Yes</td>\n",
       "      <td>Yes</td>\n",
       "    </tr>\n",
       "    <tr>\n",
       "      <th>multiple_lines</th>\n",
       "      <td>No</td>\n",
       "      <td>Yes</td>\n",
       "      <td>No</td>\n",
       "      <td>No</td>\n",
       "      <td>No</td>\n",
       "    </tr>\n",
       "    <tr>\n",
       "      <th>online_security</th>\n",
       "      <td>No</td>\n",
       "      <td>No</td>\n",
       "      <td>No</td>\n",
       "      <td>No</td>\n",
       "      <td>No</td>\n",
       "    </tr>\n",
       "    <tr>\n",
       "      <th>online_backup</th>\n",
       "      <td>Yes</td>\n",
       "      <td>No</td>\n",
       "      <td>No</td>\n",
       "      <td>Yes</td>\n",
       "      <td>No</td>\n",
       "    </tr>\n",
       "    <tr>\n",
       "      <th>device_protection</th>\n",
       "      <td>No</td>\n",
       "      <td>No</td>\n",
       "      <td>Yes</td>\n",
       "      <td>Yes</td>\n",
       "      <td>No</td>\n",
       "    </tr>\n",
       "    <tr>\n",
       "      <th>tech_support</th>\n",
       "      <td>Yes</td>\n",
       "      <td>No</td>\n",
       "      <td>No</td>\n",
       "      <td>No</td>\n",
       "      <td>Yes</td>\n",
       "    </tr>\n",
       "    <tr>\n",
       "      <th>streaming_tv</th>\n",
       "      <td>Yes</td>\n",
       "      <td>No</td>\n",
       "      <td>No</td>\n",
       "      <td>Yes</td>\n",
       "      <td>Yes</td>\n",
       "    </tr>\n",
       "    <tr>\n",
       "      <th>streaming_movies</th>\n",
       "      <td>No</td>\n",
       "      <td>Yes</td>\n",
       "      <td>No</td>\n",
       "      <td>Yes</td>\n",
       "      <td>No</td>\n",
       "    </tr>\n",
       "    <tr>\n",
       "      <th>paperless_billing</th>\n",
       "      <td>Yes</td>\n",
       "      <td>No</td>\n",
       "      <td>Yes</td>\n",
       "      <td>Yes</td>\n",
       "      <td>Yes</td>\n",
       "    </tr>\n",
       "    <tr>\n",
       "      <th>monthly_charges</th>\n",
       "      <td>65.6</td>\n",
       "      <td>59.9</td>\n",
       "      <td>73.9</td>\n",
       "      <td>98.0</td>\n",
       "      <td>83.9</td>\n",
       "    </tr>\n",
       "    <tr>\n",
       "      <th>total_charges</th>\n",
       "      <td>593.3</td>\n",
       "      <td>542.4</td>\n",
       "      <td>280.85</td>\n",
       "      <td>1237.85</td>\n",
       "      <td>267.4</td>\n",
       "    </tr>\n",
       "    <tr>\n",
       "      <th>churn</th>\n",
       "      <td>No</td>\n",
       "      <td>No</td>\n",
       "      <td>Yes</td>\n",
       "      <td>Yes</td>\n",
       "      <td>Yes</td>\n",
       "    </tr>\n",
       "    <tr>\n",
       "      <th>internet_service_type</th>\n",
       "      <td>DSL</td>\n",
       "      <td>DSL</td>\n",
       "      <td>Fiber optic</td>\n",
       "      <td>Fiber optic</td>\n",
       "      <td>Fiber optic</td>\n",
       "    </tr>\n",
       "    <tr>\n",
       "      <th>contract_type</th>\n",
       "      <td>One year</td>\n",
       "      <td>Month-to-month</td>\n",
       "      <td>Month-to-month</td>\n",
       "      <td>Month-to-month</td>\n",
       "      <td>Month-to-month</td>\n",
       "    </tr>\n",
       "    <tr>\n",
       "      <th>payment_type</th>\n",
       "      <td>Mailed check</td>\n",
       "      <td>Mailed check</td>\n",
       "      <td>Electronic check</td>\n",
       "      <td>Electronic check</td>\n",
       "      <td>Mailed check</td>\n",
       "    </tr>\n",
       "  </tbody>\n",
       "</table>\n",
       "</div>"
      ],
      "text/plain": [
       "payment_type_id                      2               2                 1  \\\n",
       "contract_type_id                     2               1                 1   \n",
       "internet_service_type_id             1               1                 2   \n",
       "customer_id                 0002-ORFBO      0003-MKNFE        0004-TLHLJ   \n",
       "gender                          Female            Male              Male   \n",
       "senior_citizen                       0               0                 0   \n",
       "partner                            Yes              No                No   \n",
       "dependents                         Yes              No                No   \n",
       "tenure                               9               9                 4   \n",
       "phone_service                      Yes             Yes               Yes   \n",
       "multiple_lines                      No             Yes                No   \n",
       "online_security                     No              No                No   \n",
       "online_backup                      Yes              No                No   \n",
       "device_protection                   No              No               Yes   \n",
       "tech_support                       Yes              No                No   \n",
       "streaming_tv                       Yes              No                No   \n",
       "streaming_movies                    No             Yes                No   \n",
       "paperless_billing                  Yes              No               Yes   \n",
       "monthly_charges                   65.6            59.9              73.9   \n",
       "total_charges                    593.3           542.4            280.85   \n",
       "churn                               No              No               Yes   \n",
       "internet_service_type              DSL             DSL       Fiber optic   \n",
       "contract_type                 One year  Month-to-month    Month-to-month   \n",
       "payment_type              Mailed check    Mailed check  Electronic check   \n",
       "\n",
       "payment_type_id                          1               2  \n",
       "contract_type_id                         1               1  \n",
       "internet_service_type_id                 2               2  \n",
       "customer_id                     0011-IGKFF      0013-EXCHZ  \n",
       "gender                                Male          Female  \n",
       "senior_citizen                           1               1  \n",
       "partner                                Yes             Yes  \n",
       "dependents                              No              No  \n",
       "tenure                                  13               3  \n",
       "phone_service                          Yes             Yes  \n",
       "multiple_lines                          No              No  \n",
       "online_security                         No              No  \n",
       "online_backup                          Yes              No  \n",
       "device_protection                      Yes              No  \n",
       "tech_support                            No             Yes  \n",
       "streaming_tv                           Yes             Yes  \n",
       "streaming_movies                       Yes              No  \n",
       "paperless_billing                      Yes             Yes  \n",
       "monthly_charges                       98.0            83.9  \n",
       "total_charges                      1237.85           267.4  \n",
       "churn                                  Yes             Yes  \n",
       "internet_service_type          Fiber optic     Fiber optic  \n",
       "contract_type               Month-to-month  Month-to-month  \n",
       "payment_type              Electronic check    Mailed check  "
      ]
     },
     "execution_count": 3,
     "metadata": {},
     "output_type": "execute_result"
    }
   ],
   "source": [
    "telco_df.head().T"
   ]
  },
  {
   "cell_type": "markdown",
   "id": "ffffb9ad",
   "metadata": {},
   "source": [
    "## Data Dictionary"
   ]
  },
  {
   "cell_type": "markdown",
   "id": "56642f9d",
   "metadata": {},
   "source": [
    "### What does each column title represent?"
   ]
  },
  {
   "cell_type": "code",
   "execution_count": 4,
   "id": "c04e7eb0",
   "metadata": {
    "scrolled": false
   },
   "outputs": [
    {
     "name": "stdout",
     "output_type": "stream",
     "text": [
      "<class 'pandas.core.frame.DataFrame'>\n",
      "Int64Index: 7043 entries, 2 to 1\n",
      "Data columns (total 23 columns):\n",
      " #   Column                    Non-Null Count  Dtype  \n",
      "---  ------                    --------------  -----  \n",
      " 0   contract_type_id          7043 non-null   int64  \n",
      " 1   internet_service_type_id  7043 non-null   int64  \n",
      " 2   customer_id               7043 non-null   object \n",
      " 3   gender                    7043 non-null   object \n",
      " 4   senior_citizen            7043 non-null   int64  \n",
      " 5   partner                   7043 non-null   object \n",
      " 6   dependents                7043 non-null   object \n",
      " 7   tenure                    7043 non-null   int64  \n",
      " 8   phone_service             7043 non-null   object \n",
      " 9   multiple_lines            7043 non-null   object \n",
      " 10  online_security           7043 non-null   object \n",
      " 11  online_backup             7043 non-null   object \n",
      " 12  device_protection         7043 non-null   object \n",
      " 13  tech_support              7043 non-null   object \n",
      " 14  streaming_tv              7043 non-null   object \n",
      " 15  streaming_movies          7043 non-null   object \n",
      " 16  paperless_billing         7043 non-null   object \n",
      " 17  monthly_charges           7043 non-null   float64\n",
      " 18  total_charges             7043 non-null   object \n",
      " 19  churn                     7043 non-null   object \n",
      " 20  internet_service_type     7043 non-null   object \n",
      " 21  contract_type             7043 non-null   object \n",
      " 22  payment_type              7043 non-null   object \n",
      "dtypes: float64(1), int64(4), object(18)\n",
      "memory usage: 1.3+ MB\n"
     ]
    }
   ],
   "source": [
    "telco_df.info()"
   ]
  },
  {
   "cell_type": "markdown",
   "id": "c05eef4d",
   "metadata": {},
   "source": [
    "# Step 2 - Prepare Data"
   ]
  },
  {
   "cell_type": "markdown",
   "id": "6c806461",
   "metadata": {},
   "source": [
    "### Here is where I will clean and prepare the data before analysis"
   ]
  },
  {
   "cell_type": "code",
   "execution_count": 5,
   "id": "df2dcc52",
   "metadata": {},
   "outputs": [
    {
     "data": {
      "text/html": [
       "<div>\n",
       "<style scoped>\n",
       "    .dataframe tbody tr th:only-of-type {\n",
       "        vertical-align: middle;\n",
       "    }\n",
       "\n",
       "    .dataframe tbody tr th {\n",
       "        vertical-align: top;\n",
       "    }\n",
       "\n",
       "    .dataframe thead th {\n",
       "        text-align: right;\n",
       "    }\n",
       "</style>\n",
       "<table border=\"1\" class=\"dataframe\">\n",
       "  <thead>\n",
       "    <tr style=\"text-align: right;\">\n",
       "      <th></th>\n",
       "      <th>count</th>\n",
       "      <th>mean</th>\n",
       "      <th>std</th>\n",
       "      <th>min</th>\n",
       "      <th>25%</th>\n",
       "      <th>50%</th>\n",
       "      <th>75%</th>\n",
       "      <th>max</th>\n",
       "    </tr>\n",
       "  </thead>\n",
       "  <tbody>\n",
       "    <tr>\n",
       "      <th>contract_type_id</th>\n",
       "      <td>7043.0</td>\n",
       "      <td>1.690473</td>\n",
       "      <td>0.833755</td>\n",
       "      <td>1.00</td>\n",
       "      <td>1.0</td>\n",
       "      <td>1.00</td>\n",
       "      <td>2.00</td>\n",
       "      <td>3.00</td>\n",
       "    </tr>\n",
       "    <tr>\n",
       "      <th>internet_service_type_id</th>\n",
       "      <td>7043.0</td>\n",
       "      <td>1.872923</td>\n",
       "      <td>0.737796</td>\n",
       "      <td>1.00</td>\n",
       "      <td>1.0</td>\n",
       "      <td>2.00</td>\n",
       "      <td>2.00</td>\n",
       "      <td>3.00</td>\n",
       "    </tr>\n",
       "    <tr>\n",
       "      <th>senior_citizen</th>\n",
       "      <td>7043.0</td>\n",
       "      <td>0.162147</td>\n",
       "      <td>0.368612</td>\n",
       "      <td>0.00</td>\n",
       "      <td>0.0</td>\n",
       "      <td>0.00</td>\n",
       "      <td>0.00</td>\n",
       "      <td>1.00</td>\n",
       "    </tr>\n",
       "    <tr>\n",
       "      <th>tenure</th>\n",
       "      <td>7043.0</td>\n",
       "      <td>32.371149</td>\n",
       "      <td>24.559481</td>\n",
       "      <td>0.00</td>\n",
       "      <td>9.0</td>\n",
       "      <td>29.00</td>\n",
       "      <td>55.00</td>\n",
       "      <td>72.00</td>\n",
       "    </tr>\n",
       "    <tr>\n",
       "      <th>monthly_charges</th>\n",
       "      <td>7043.0</td>\n",
       "      <td>64.761692</td>\n",
       "      <td>30.090047</td>\n",
       "      <td>18.25</td>\n",
       "      <td>35.5</td>\n",
       "      <td>70.35</td>\n",
       "      <td>89.85</td>\n",
       "      <td>118.75</td>\n",
       "    </tr>\n",
       "  </tbody>\n",
       "</table>\n",
       "</div>"
      ],
      "text/plain": [
       "                           count       mean        std    min   25%    50%  \\\n",
       "contract_type_id          7043.0   1.690473   0.833755   1.00   1.0   1.00   \n",
       "internet_service_type_id  7043.0   1.872923   0.737796   1.00   1.0   2.00   \n",
       "senior_citizen            7043.0   0.162147   0.368612   0.00   0.0   0.00   \n",
       "tenure                    7043.0  32.371149  24.559481   0.00   9.0  29.00   \n",
       "monthly_charges           7043.0  64.761692  30.090047  18.25  35.5  70.35   \n",
       "\n",
       "                            75%     max  \n",
       "contract_type_id           2.00    3.00  \n",
       "internet_service_type_id   2.00    3.00  \n",
       "senior_citizen             0.00    1.00  \n",
       "tenure                    55.00   72.00  \n",
       "monthly_charges           89.85  118.75  "
      ]
     },
     "execution_count": 5,
     "metadata": {},
     "output_type": "execute_result"
    }
   ],
   "source": [
    "telco_df.describe().T"
   ]
  },
  {
   "cell_type": "markdown",
   "id": "89d29632",
   "metadata": {},
   "source": [
    "### no missing data"
   ]
  },
  {
   "cell_type": "code",
   "execution_count": 6,
   "id": "b8d9fe70",
   "metadata": {},
   "outputs": [
    {
     "data": {
      "text/plain": [
       "contract_type_id            0\n",
       "internet_service_type_id    0\n",
       "customer_id                 0\n",
       "gender                      0\n",
       "senior_citizen              0\n",
       "partner                     0\n",
       "dependents                  0\n",
       "tenure                      0\n",
       "phone_service               0\n",
       "multiple_lines              0\n",
       "online_security             0\n",
       "online_backup               0\n",
       "device_protection           0\n",
       "tech_support                0\n",
       "streaming_tv                0\n",
       "streaming_movies            0\n",
       "paperless_billing           0\n",
       "monthly_charges             0\n",
       "total_charges               0\n",
       "churn                       0\n",
       "internet_service_type       0\n",
       "contract_type               0\n",
       "payment_type                0\n",
       "dtype: int64"
      ]
     },
     "execution_count": 6,
     "metadata": {},
     "output_type": "execute_result"
    }
   ],
   "source": [
    "telco_df.isna().sum()"
   ]
  },
  {
   "cell_type": "code",
   "execution_count": 7,
   "id": "373ed6ce",
   "metadata": {},
   "outputs": [
    {
     "data": {
      "text/plain": [
       "Text(0.5, 1.02, 'Count of TARGET Variable per category')"
      ]
     },
     "execution_count": 7,
     "metadata": {},
     "output_type": "execute_result"
    },
    {
     "data": {
      "image/png": "[encoded data removed]",
      "text/plain": [
       "<Figure size 576x432 with 1 Axes>"
      ]
     },
     "metadata": {
      "needs_background": "light"
     },
     "output_type": "display_data"
    }
   ],
   "source": [
    "telco_df['churn'].value_counts().plot(kind='barh', figsize=(8, 6))\n",
    "plt.xlabel(\"Count\", labelpad=14)\n",
    "plt.ylabel(\"Target Variable\", labelpad=14)\n",
    "plt.title(\"Count of TARGET Variable per category\", y=1.02)"
   ]
  },
  {
   "cell_type": "code",
   "execution_count": 8,
   "id": "b941f96f",
   "metadata": {},
   "outputs": [
    {
     "data": {
      "text/plain": [
       "No     5174\n",
       "Yes    1869\n",
       "Name: churn, dtype: int64"
      ]
     },
     "execution_count": 8,
     "metadata": {},
     "output_type": "execute_result"
    }
   ],
   "source": [
    "telco_df['churn'].value_counts()"
   ]
  },
  {
   "cell_type": "code",
   "execution_count": 9,
   "id": "bc1faeba",
   "metadata": {},
   "outputs": [
    {
     "data": {
      "text/plain": [
       "No     73.463013\n",
       "Yes    26.536987\n",
       "Name: churn, dtype: float64"
      ]
     },
     "execution_count": 9,
     "metadata": {},
     "output_type": "execute_result"
    }
   ],
   "source": [
    "telco_df['churn'].value_counts()/len(telco_df['churn'])*100"
   ]
  },
  {
   "cell_type": "markdown",
   "id": "b618ff37",
   "metadata": {},
   "source": [
    "#### 26.5% totaling 1869 of customers from this data set have churned."
   ]
  },
  {
   "cell_type": "markdown",
   "id": "fc27d32d",
   "metadata": {},
   "source": [
    "#### Here I will convert the total_charges column to a numeric value and find the nulls"
   ]
  },
  {
   "cell_type": "code",
   "execution_count": 10,
   "id": "55e6759e",
   "metadata": {},
   "outputs": [
    {
     "data": {
      "text/plain": [
       "contract_type_id             0\n",
       "internet_service_type_id     0\n",
       "customer_id                  0\n",
       "gender                       0\n",
       "senior_citizen               0\n",
       "partner                      0\n",
       "dependents                   0\n",
       "tenure                       0\n",
       "phone_service                0\n",
       "multiple_lines               0\n",
       "online_security              0\n",
       "online_backup                0\n",
       "device_protection            0\n",
       "tech_support                 0\n",
       "streaming_tv                 0\n",
       "streaming_movies             0\n",
       "paperless_billing            0\n",
       "monthly_charges              0\n",
       "total_charges               11\n",
       "churn                        0\n",
       "internet_service_type        0\n",
       "contract_type                0\n",
       "payment_type                 0\n",
       "dtype: int64"
      ]
     },
     "execution_count": 10,
     "metadata": {},
     "output_type": "execute_result"
    }
   ],
   "source": [
    "telco_df.total_charges = pd.to_numeric(telco_df.total_charges, errors='coerce')\n",
    "telco_df.isnull().sum()"
   ]
  },
  {
   "cell_type": "markdown",
   "id": "a2942dd7",
   "metadata": {},
   "source": [
    "### What do these nulls look like?"
   ]
  },
  {
   "cell_type": "code",
   "execution_count": 11,
   "id": "be960e2b",
   "metadata": {},
   "outputs": [
    {
     "data": {
      "text/html": [
       "<div>\n",
       "<style scoped>\n",
       "    .dataframe tbody tr th:only-of-type {\n",
       "        vertical-align: middle;\n",
       "    }\n",
       "\n",
       "    .dataframe tbody tr th {\n",
       "        vertical-align: top;\n",
       "    }\n",
       "\n",
       "    .dataframe thead th {\n",
       "        text-align: right;\n",
       "    }\n",
       "</style>\n",
       "<table border=\"1\" class=\"dataframe\">\n",
       "  <thead>\n",
       "    <tr style=\"text-align: right;\">\n",
       "      <th></th>\n",
       "      <th>contract_type_id</th>\n",
       "      <th>internet_service_type_id</th>\n",
       "      <th>customer_id</th>\n",
       "      <th>gender</th>\n",
       "      <th>senior_citizen</th>\n",
       "      <th>partner</th>\n",
       "      <th>dependents</th>\n",
       "      <th>tenure</th>\n",
       "      <th>phone_service</th>\n",
       "      <th>multiple_lines</th>\n",
       "      <th>...</th>\n",
       "      <th>tech_support</th>\n",
       "      <th>streaming_tv</th>\n",
       "      <th>streaming_movies</th>\n",
       "      <th>paperless_billing</th>\n",
       "      <th>monthly_charges</th>\n",
       "      <th>total_charges</th>\n",
       "      <th>churn</th>\n",
       "      <th>internet_service_type</th>\n",
       "      <th>contract_type</th>\n",
       "      <th>payment_type</th>\n",
       "    </tr>\n",
       "    <tr>\n",
       "      <th>payment_type_id</th>\n",
       "      <th></th>\n",
       "      <th></th>\n",
       "      <th></th>\n",
       "      <th></th>\n",
       "      <th></th>\n",
       "      <th></th>\n",
       "      <th></th>\n",
       "      <th></th>\n",
       "      <th></th>\n",
       "      <th></th>\n",
       "      <th></th>\n",
       "      <th></th>\n",
       "      <th></th>\n",
       "      <th></th>\n",
       "      <th></th>\n",
       "      <th></th>\n",
       "      <th></th>\n",
       "      <th></th>\n",
       "      <th></th>\n",
       "      <th></th>\n",
       "      <th></th>\n",
       "    </tr>\n",
       "  </thead>\n",
       "  <tbody>\n",
       "    <tr>\n",
       "      <th>4</th>\n",
       "      <td>3</td>\n",
       "      <td>1</td>\n",
       "      <td>1371-DWPAZ</td>\n",
       "      <td>Female</td>\n",
       "      <td>0</td>\n",
       "      <td>Yes</td>\n",
       "      <td>Yes</td>\n",
       "      <td>0</td>\n",
       "      <td>No</td>\n",
       "      <td>No phone service</td>\n",
       "      <td>...</td>\n",
       "      <td>Yes</td>\n",
       "      <td>Yes</td>\n",
       "      <td>No</td>\n",
       "      <td>No</td>\n",
       "      <td>56.05</td>\n",
       "      <td>NaN</td>\n",
       "      <td>No</td>\n",
       "      <td>DSL</td>\n",
       "      <td>Two year</td>\n",
       "      <td>Credit card (automatic)</td>\n",
       "    </tr>\n",
       "    <tr>\n",
       "      <th>2</th>\n",
       "      <td>3</td>\n",
       "      <td>3</td>\n",
       "      <td>2520-SGTTA</td>\n",
       "      <td>Female</td>\n",
       "      <td>0</td>\n",
       "      <td>Yes</td>\n",
       "      <td>Yes</td>\n",
       "      <td>0</td>\n",
       "      <td>Yes</td>\n",
       "      <td>No</td>\n",
       "      <td>...</td>\n",
       "      <td>No internet service</td>\n",
       "      <td>No internet service</td>\n",
       "      <td>No internet service</td>\n",
       "      <td>No</td>\n",
       "      <td>20.00</td>\n",
       "      <td>NaN</td>\n",
       "      <td>No</td>\n",
       "      <td>None</td>\n",
       "      <td>Two year</td>\n",
       "      <td>Mailed check</td>\n",
       "    </tr>\n",
       "    <tr>\n",
       "      <th>3</th>\n",
       "      <td>3</td>\n",
       "      <td>1</td>\n",
       "      <td>2775-SEFEE</td>\n",
       "      <td>Male</td>\n",
       "      <td>0</td>\n",
       "      <td>No</td>\n",
       "      <td>Yes</td>\n",
       "      <td>0</td>\n",
       "      <td>Yes</td>\n",
       "      <td>Yes</td>\n",
       "      <td>...</td>\n",
       "      <td>Yes</td>\n",
       "      <td>No</td>\n",
       "      <td>No</td>\n",
       "      <td>Yes</td>\n",
       "      <td>61.90</td>\n",
       "      <td>NaN</td>\n",
       "      <td>No</td>\n",
       "      <td>DSL</td>\n",
       "      <td>Two year</td>\n",
       "      <td>Bank transfer (automatic)</td>\n",
       "    </tr>\n",
       "    <tr>\n",
       "      <th>2</th>\n",
       "      <td>2</td>\n",
       "      <td>3</td>\n",
       "      <td>2923-ARZLG</td>\n",
       "      <td>Male</td>\n",
       "      <td>0</td>\n",
       "      <td>Yes</td>\n",
       "      <td>Yes</td>\n",
       "      <td>0</td>\n",
       "      <td>Yes</td>\n",
       "      <td>No</td>\n",
       "      <td>...</td>\n",
       "      <td>No internet service</td>\n",
       "      <td>No internet service</td>\n",
       "      <td>No internet service</td>\n",
       "      <td>Yes</td>\n",
       "      <td>19.70</td>\n",
       "      <td>NaN</td>\n",
       "      <td>No</td>\n",
       "      <td>None</td>\n",
       "      <td>One year</td>\n",
       "      <td>Mailed check</td>\n",
       "    </tr>\n",
       "    <tr>\n",
       "      <th>2</th>\n",
       "      <td>3</td>\n",
       "      <td>3</td>\n",
       "      <td>3115-CZMZD</td>\n",
       "      <td>Male</td>\n",
       "      <td>0</td>\n",
       "      <td>No</td>\n",
       "      <td>Yes</td>\n",
       "      <td>0</td>\n",
       "      <td>Yes</td>\n",
       "      <td>No</td>\n",
       "      <td>...</td>\n",
       "      <td>No internet service</td>\n",
       "      <td>No internet service</td>\n",
       "      <td>No internet service</td>\n",
       "      <td>No</td>\n",
       "      <td>20.25</td>\n",
       "      <td>NaN</td>\n",
       "      <td>No</td>\n",
       "      <td>None</td>\n",
       "      <td>Two year</td>\n",
       "      <td>Mailed check</td>\n",
       "    </tr>\n",
       "    <tr>\n",
       "      <th>2</th>\n",
       "      <td>3</td>\n",
       "      <td>3</td>\n",
       "      <td>3213-VVOLG</td>\n",
       "      <td>Male</td>\n",
       "      <td>0</td>\n",
       "      <td>Yes</td>\n",
       "      <td>Yes</td>\n",
       "      <td>0</td>\n",
       "      <td>Yes</td>\n",
       "      <td>Yes</td>\n",
       "      <td>...</td>\n",
       "      <td>No internet service</td>\n",
       "      <td>No internet service</td>\n",
       "      <td>No internet service</td>\n",
       "      <td>No</td>\n",
       "      <td>25.35</td>\n",
       "      <td>NaN</td>\n",
       "      <td>No</td>\n",
       "      <td>None</td>\n",
       "      <td>Two year</td>\n",
       "      <td>Mailed check</td>\n",
       "    </tr>\n",
       "    <tr>\n",
       "      <th>2</th>\n",
       "      <td>3</td>\n",
       "      <td>1</td>\n",
       "      <td>4075-WKNIU</td>\n",
       "      <td>Female</td>\n",
       "      <td>0</td>\n",
       "      <td>Yes</td>\n",
       "      <td>Yes</td>\n",
       "      <td>0</td>\n",
       "      <td>Yes</td>\n",
       "      <td>Yes</td>\n",
       "      <td>...</td>\n",
       "      <td>Yes</td>\n",
       "      <td>Yes</td>\n",
       "      <td>No</td>\n",
       "      <td>No</td>\n",
       "      <td>73.35</td>\n",
       "      <td>NaN</td>\n",
       "      <td>No</td>\n",
       "      <td>DSL</td>\n",
       "      <td>Two year</td>\n",
       "      <td>Mailed check</td>\n",
       "    </tr>\n",
       "    <tr>\n",
       "      <th>2</th>\n",
       "      <td>3</td>\n",
       "      <td>3</td>\n",
       "      <td>4367-NUYAO</td>\n",
       "      <td>Male</td>\n",
       "      <td>0</td>\n",
       "      <td>Yes</td>\n",
       "      <td>Yes</td>\n",
       "      <td>0</td>\n",
       "      <td>Yes</td>\n",
       "      <td>Yes</td>\n",
       "      <td>...</td>\n",
       "      <td>No internet service</td>\n",
       "      <td>No internet service</td>\n",
       "      <td>No internet service</td>\n",
       "      <td>No</td>\n",
       "      <td>25.75</td>\n",
       "      <td>NaN</td>\n",
       "      <td>No</td>\n",
       "      <td>None</td>\n",
       "      <td>Two year</td>\n",
       "      <td>Mailed check</td>\n",
       "    </tr>\n",
       "    <tr>\n",
       "      <th>3</th>\n",
       "      <td>3</td>\n",
       "      <td>1</td>\n",
       "      <td>4472-LVYGI</td>\n",
       "      <td>Female</td>\n",
       "      <td>0</td>\n",
       "      <td>Yes</td>\n",
       "      <td>Yes</td>\n",
       "      <td>0</td>\n",
       "      <td>No</td>\n",
       "      <td>No phone service</td>\n",
       "      <td>...</td>\n",
       "      <td>Yes</td>\n",
       "      <td>Yes</td>\n",
       "      <td>No</td>\n",
       "      <td>Yes</td>\n",
       "      <td>52.55</td>\n",
       "      <td>NaN</td>\n",
       "      <td>No</td>\n",
       "      <td>DSL</td>\n",
       "      <td>Two year</td>\n",
       "      <td>Bank transfer (automatic)</td>\n",
       "    </tr>\n",
       "    <tr>\n",
       "      <th>2</th>\n",
       "      <td>3</td>\n",
       "      <td>1</td>\n",
       "      <td>5709-LVOEQ</td>\n",
       "      <td>Female</td>\n",
       "      <td>0</td>\n",
       "      <td>Yes</td>\n",
       "      <td>Yes</td>\n",
       "      <td>0</td>\n",
       "      <td>Yes</td>\n",
       "      <td>No</td>\n",
       "      <td>...</td>\n",
       "      <td>No</td>\n",
       "      <td>Yes</td>\n",
       "      <td>Yes</td>\n",
       "      <td>No</td>\n",
       "      <td>80.85</td>\n",
       "      <td>NaN</td>\n",
       "      <td>No</td>\n",
       "      <td>DSL</td>\n",
       "      <td>Two year</td>\n",
       "      <td>Mailed check</td>\n",
       "    </tr>\n",
       "    <tr>\n",
       "      <th>2</th>\n",
       "      <td>3</td>\n",
       "      <td>3</td>\n",
       "      <td>7644-OMVMY</td>\n",
       "      <td>Male</td>\n",
       "      <td>0</td>\n",
       "      <td>Yes</td>\n",
       "      <td>Yes</td>\n",
       "      <td>0</td>\n",
       "      <td>Yes</td>\n",
       "      <td>No</td>\n",
       "      <td>...</td>\n",
       "      <td>No internet service</td>\n",
       "      <td>No internet service</td>\n",
       "      <td>No internet service</td>\n",
       "      <td>No</td>\n",
       "      <td>19.85</td>\n",
       "      <td>NaN</td>\n",
       "      <td>No</td>\n",
       "      <td>None</td>\n",
       "      <td>Two year</td>\n",
       "      <td>Mailed check</td>\n",
       "    </tr>\n",
       "  </tbody>\n",
       "</table>\n",
       "<p>11 rows × 23 columns</p>\n",
       "</div>"
      ],
      "text/plain": [
       "                 contract_type_id  internet_service_type_id customer_id  \\\n",
       "payment_type_id                                                           \n",
       "4                               3                         1  1371-DWPAZ   \n",
       "2                               3                         3  2520-SGTTA   \n",
       "3                               3                         1  2775-SEFEE   \n",
       "2                               2                         3  2923-ARZLG   \n",
       "2                               3                         3  3115-CZMZD   \n",
       "2                               3                         3  3213-VVOLG   \n",
       "2                               3                         1  4075-WKNIU   \n",
       "2                               3                         3  4367-NUYAO   \n",
       "3                               3                         1  4472-LVYGI   \n",
       "2                               3                         1  5709-LVOEQ   \n",
       "2                               3                         3  7644-OMVMY   \n",
       "\n",
       "                 gender  senior_citizen partner dependents  tenure  \\\n",
       "payment_type_id                                                      \n",
       "4                Female               0     Yes        Yes       0   \n",
       "2                Female               0     Yes        Yes       0   \n",
       "3                  Male               0      No        Yes       0   \n",
       "2                  Male               0     Yes        Yes       0   \n",
       "2                  Male               0      No        Yes       0   \n",
       "2                  Male               0     Yes        Yes       0   \n",
       "2                Female               0     Yes        Yes       0   \n",
       "2                  Male               0     Yes        Yes       0   \n",
       "3                Female               0     Yes        Yes       0   \n",
       "2                Female               0     Yes        Yes       0   \n",
       "2                  Male               0     Yes        Yes       0   \n",
       "\n",
       "                phone_service    multiple_lines  ...         tech_support  \\\n",
       "payment_type_id                                  ...                        \n",
       "4                          No  No phone service  ...                  Yes   \n",
       "2                         Yes                No  ...  No internet service   \n",
       "3                         Yes               Yes  ...                  Yes   \n",
       "2                         Yes                No  ...  No internet service   \n",
       "2                         Yes                No  ...  No internet service   \n",
       "2                         Yes               Yes  ...  No internet service   \n",
       "2                         Yes               Yes  ...                  Yes   \n",
       "2                         Yes               Yes  ...  No internet service   \n",
       "3                          No  No phone service  ...                  Yes   \n",
       "2                         Yes                No  ...                   No   \n",
       "2                         Yes                No  ...  No internet service   \n",
       "\n",
       "                        streaming_tv     streaming_movies paperless_billing  \\\n",
       "payment_type_id                                                               \n",
       "4                                Yes                   No                No   \n",
       "2                No internet service  No internet service                No   \n",
       "3                                 No                   No               Yes   \n",
       "2                No internet service  No internet service               Yes   \n",
       "2                No internet service  No internet service                No   \n",
       "2                No internet service  No internet service                No   \n",
       "2                                Yes                   No                No   \n",
       "2                No internet service  No internet service                No   \n",
       "3                                Yes                   No               Yes   \n",
       "2                                Yes                  Yes                No   \n",
       "2                No internet service  No internet service                No   \n",
       "\n",
       "                monthly_charges total_charges churn  internet_service_type  \\\n",
       "payment_type_id                                                              \n",
       "4                         56.05           NaN    No                    DSL   \n",
       "2                         20.00           NaN    No                   None   \n",
       "3                         61.90           NaN    No                    DSL   \n",
       "2                         19.70           NaN    No                   None   \n",
       "2                         20.25           NaN    No                   None   \n",
       "2                         25.35           NaN    No                   None   \n",
       "2                         73.35           NaN    No                    DSL   \n",
       "2                         25.75           NaN    No                   None   \n",
       "3                         52.55           NaN    No                    DSL   \n",
       "2                         80.85           NaN    No                    DSL   \n",
       "2                         19.85           NaN    No                   None   \n",
       "\n",
       "                 contract_type               payment_type  \n",
       "payment_type_id                                            \n",
       "4                     Two year    Credit card (automatic)  \n",
       "2                     Two year               Mailed check  \n",
       "3                     Two year  Bank transfer (automatic)  \n",
       "2                     One year               Mailed check  \n",
       "2                     Two year               Mailed check  \n",
       "2                     Two year               Mailed check  \n",
       "2                     Two year               Mailed check  \n",
       "2                     Two year               Mailed check  \n",
       "3                     Two year  Bank transfer (automatic)  \n",
       "2                     Two year               Mailed check  \n",
       "2                     Two year               Mailed check  \n",
       "\n",
       "[11 rows x 23 columns]"
      ]
     },
     "execution_count": 11,
     "metadata": {},
     "output_type": "execute_result"
    }
   ],
   "source": [
    "telco_df.loc[telco_df ['total_charges'].isnull() == True]"
   ]
  },
  {
   "cell_type": "code",
   "execution_count": 12,
   "id": "58dbb15c",
   "metadata": {},
   "outputs": [
    {
     "data": {
      "text/plain": [
       "contract_type_id              int64\n",
       "internet_service_type_id      int64\n",
       "customer_id                  object\n",
       "gender                       object\n",
       "senior_citizen                int64\n",
       "partner                      object\n",
       "dependents                   object\n",
       "tenure                        int64\n",
       "phone_service                object\n",
       "multiple_lines               object\n",
       "online_security              object\n",
       "online_backup                object\n",
       "device_protection            object\n",
       "tech_support                 object\n",
       "streaming_tv                 object\n",
       "streaming_movies             object\n",
       "paperless_billing            object\n",
       "monthly_charges             float64\n",
       "total_charges               float64\n",
       "churn                        object\n",
       "internet_service_type        object\n",
       "contract_type                object\n",
       "payment_type                 object\n",
       "dtype: object"
      ]
     },
     "execution_count": 12,
     "metadata": {},
     "output_type": "execute_result"
    }
   ],
   "source": [
    "telco_df.dtypes"
   ]
  },
  {
   "cell_type": "code",
   "execution_count": 13,
   "id": "8a03a7c6",
   "metadata": {},
   "outputs": [
    {
     "data": {
      "text/plain": [
       "payment_type_id\n",
       "2    0.0\n",
       "2    0.0\n",
       "1    0.0\n",
       "1    0.0\n",
       "2    0.0\n",
       "    ... \n",
       "2    0.0\n",
       "1    0.0\n",
       "2    0.0\n",
       "2    0.0\n",
       "1    0.0\n",
       "Name: total_charges, Length: 7043, dtype: float64"
      ]
     },
     "execution_count": 13,
     "metadata": {},
     "output_type": "execute_result"
    }
   ],
   "source": [
    "telco_df.total_charges.where((telco_df.total_charges == 'NaN'),0)"
   ]
  },
  {
   "cell_type": "markdown",
   "id": "c717ef81",
   "metadata": {},
   "source": [
    "#### Need to move payment_type_id to column and not index"
   ]
  },
  {
   "cell_type": "code",
   "execution_count": 14,
   "id": "5e0e402f",
   "metadata": {},
   "outputs": [],
   "source": [
    "telco_df.reset_index(inplace=True)"
   ]
  },
  {
   "cell_type": "markdown",
   "id": "97cc3b81",
   "metadata": {},
   "source": [
    "#### Removing null values for further preparing"
   ]
  },
  {
   "cell_type": "code",
   "execution_count": 15,
   "id": "082502df",
   "metadata": {},
   "outputs": [],
   "source": [
    "telco_df.dropna(how = 'any', inplace = True)"
   ]
  },
  {
   "cell_type": "markdown",
   "id": "50dd31a8",
   "metadata": {},
   "source": [
    "#### Dropping unnecessary columns and adding categories"
   ]
  },
  {
   "cell_type": "code",
   "execution_count": 16,
   "id": "1d3eb6f0",
   "metadata": {},
   "outputs": [],
   "source": [
    "telco_df = telco_df.rename(columns = {'tenure':'tenure_mths'})"
   ]
  },
  {
   "cell_type": "code",
   "execution_count": 17,
   "id": "3b1268aa",
   "metadata": {},
   "outputs": [
    {
     "data": {
      "text/html": [
       "<div>\n",
       "<style scoped>\n",
       "    .dataframe tbody tr th:only-of-type {\n",
       "        vertical-align: middle;\n",
       "    }\n",
       "\n",
       "    .dataframe tbody tr th {\n",
       "        vertical-align: top;\n",
       "    }\n",
       "\n",
       "    .dataframe thead th {\n",
       "        text-align: right;\n",
       "    }\n",
       "</style>\n",
       "<table border=\"1\" class=\"dataframe\">\n",
       "  <thead>\n",
       "    <tr style=\"text-align: right;\">\n",
       "      <th></th>\n",
       "      <th>payment_type_id</th>\n",
       "      <th>contract_type_id</th>\n",
       "      <th>internet_service_type_id</th>\n",
       "      <th>customer_id</th>\n",
       "      <th>gender</th>\n",
       "      <th>senior_citizen</th>\n",
       "      <th>partner</th>\n",
       "      <th>dependents</th>\n",
       "      <th>tenure_mths</th>\n",
       "      <th>phone_service</th>\n",
       "      <th>...</th>\n",
       "      <th>tech_support</th>\n",
       "      <th>streaming_tv</th>\n",
       "      <th>streaming_movies</th>\n",
       "      <th>paperless_billing</th>\n",
       "      <th>monthly_charges</th>\n",
       "      <th>total_charges</th>\n",
       "      <th>churn</th>\n",
       "      <th>internet_service_type</th>\n",
       "      <th>contract_type</th>\n",
       "      <th>payment_type</th>\n",
       "    </tr>\n",
       "  </thead>\n",
       "  <tbody>\n",
       "    <tr>\n",
       "      <th>0</th>\n",
       "      <td>2</td>\n",
       "      <td>2</td>\n",
       "      <td>1</td>\n",
       "      <td>0002-ORFBO</td>\n",
       "      <td>Female</td>\n",
       "      <td>0</td>\n",
       "      <td>Yes</td>\n",
       "      <td>Yes</td>\n",
       "      <td>9</td>\n",
       "      <td>Yes</td>\n",
       "      <td>...</td>\n",
       "      <td>Yes</td>\n",
       "      <td>Yes</td>\n",
       "      <td>No</td>\n",
       "      <td>Yes</td>\n",
       "      <td>65.60</td>\n",
       "      <td>593.30</td>\n",
       "      <td>No</td>\n",
       "      <td>DSL</td>\n",
       "      <td>One year</td>\n",
       "      <td>Mailed check</td>\n",
       "    </tr>\n",
       "    <tr>\n",
       "      <th>1</th>\n",
       "      <td>2</td>\n",
       "      <td>1</td>\n",
       "      <td>1</td>\n",
       "      <td>0003-MKNFE</td>\n",
       "      <td>Male</td>\n",
       "      <td>0</td>\n",
       "      <td>No</td>\n",
       "      <td>No</td>\n",
       "      <td>9</td>\n",
       "      <td>Yes</td>\n",
       "      <td>...</td>\n",
       "      <td>No</td>\n",
       "      <td>No</td>\n",
       "      <td>Yes</td>\n",
       "      <td>No</td>\n",
       "      <td>59.90</td>\n",
       "      <td>542.40</td>\n",
       "      <td>No</td>\n",
       "      <td>DSL</td>\n",
       "      <td>Month-to-month</td>\n",
       "      <td>Mailed check</td>\n",
       "    </tr>\n",
       "    <tr>\n",
       "      <th>2</th>\n",
       "      <td>1</td>\n",
       "      <td>1</td>\n",
       "      <td>2</td>\n",
       "      <td>0004-TLHLJ</td>\n",
       "      <td>Male</td>\n",
       "      <td>0</td>\n",
       "      <td>No</td>\n",
       "      <td>No</td>\n",
       "      <td>4</td>\n",
       "      <td>Yes</td>\n",
       "      <td>...</td>\n",
       "      <td>No</td>\n",
       "      <td>No</td>\n",
       "      <td>No</td>\n",
       "      <td>Yes</td>\n",
       "      <td>73.90</td>\n",
       "      <td>280.85</td>\n",
       "      <td>Yes</td>\n",
       "      <td>Fiber optic</td>\n",
       "      <td>Month-to-month</td>\n",
       "      <td>Electronic check</td>\n",
       "    </tr>\n",
       "    <tr>\n",
       "      <th>3</th>\n",
       "      <td>1</td>\n",
       "      <td>1</td>\n",
       "      <td>2</td>\n",
       "      <td>0011-IGKFF</td>\n",
       "      <td>Male</td>\n",
       "      <td>1</td>\n",
       "      <td>Yes</td>\n",
       "      <td>No</td>\n",
       "      <td>13</td>\n",
       "      <td>Yes</td>\n",
       "      <td>...</td>\n",
       "      <td>No</td>\n",
       "      <td>Yes</td>\n",
       "      <td>Yes</td>\n",
       "      <td>Yes</td>\n",
       "      <td>98.00</td>\n",
       "      <td>1237.85</td>\n",
       "      <td>Yes</td>\n",
       "      <td>Fiber optic</td>\n",
       "      <td>Month-to-month</td>\n",
       "      <td>Electronic check</td>\n",
       "    </tr>\n",
       "    <tr>\n",
       "      <th>4</th>\n",
       "      <td>2</td>\n",
       "      <td>1</td>\n",
       "      <td>2</td>\n",
       "      <td>0013-EXCHZ</td>\n",
       "      <td>Female</td>\n",
       "      <td>1</td>\n",
       "      <td>Yes</td>\n",
       "      <td>No</td>\n",
       "      <td>3</td>\n",
       "      <td>Yes</td>\n",
       "      <td>...</td>\n",
       "      <td>Yes</td>\n",
       "      <td>Yes</td>\n",
       "      <td>No</td>\n",
       "      <td>Yes</td>\n",
       "      <td>83.90</td>\n",
       "      <td>267.40</td>\n",
       "      <td>Yes</td>\n",
       "      <td>Fiber optic</td>\n",
       "      <td>Month-to-month</td>\n",
       "      <td>Mailed check</td>\n",
       "    </tr>\n",
       "    <tr>\n",
       "      <th>5</th>\n",
       "      <td>4</td>\n",
       "      <td>1</td>\n",
       "      <td>1</td>\n",
       "      <td>0013-MHZWF</td>\n",
       "      <td>Female</td>\n",
       "      <td>0</td>\n",
       "      <td>No</td>\n",
       "      <td>Yes</td>\n",
       "      <td>9</td>\n",
       "      <td>Yes</td>\n",
       "      <td>...</td>\n",
       "      <td>Yes</td>\n",
       "      <td>Yes</td>\n",
       "      <td>Yes</td>\n",
       "      <td>Yes</td>\n",
       "      <td>69.40</td>\n",
       "      <td>571.45</td>\n",
       "      <td>No</td>\n",
       "      <td>DSL</td>\n",
       "      <td>Month-to-month</td>\n",
       "      <td>Credit card (automatic)</td>\n",
       "    </tr>\n",
       "    <tr>\n",
       "      <th>6</th>\n",
       "      <td>3</td>\n",
       "      <td>3</td>\n",
       "      <td>2</td>\n",
       "      <td>0013-SMEOE</td>\n",
       "      <td>Female</td>\n",
       "      <td>1</td>\n",
       "      <td>Yes</td>\n",
       "      <td>No</td>\n",
       "      <td>71</td>\n",
       "      <td>Yes</td>\n",
       "      <td>...</td>\n",
       "      <td>Yes</td>\n",
       "      <td>Yes</td>\n",
       "      <td>Yes</td>\n",
       "      <td>Yes</td>\n",
       "      <td>109.70</td>\n",
       "      <td>7904.25</td>\n",
       "      <td>No</td>\n",
       "      <td>Fiber optic</td>\n",
       "      <td>Two year</td>\n",
       "      <td>Bank transfer (automatic)</td>\n",
       "    </tr>\n",
       "    <tr>\n",
       "      <th>7</th>\n",
       "      <td>4</td>\n",
       "      <td>3</td>\n",
       "      <td>2</td>\n",
       "      <td>0014-BMAQU</td>\n",
       "      <td>Male</td>\n",
       "      <td>0</td>\n",
       "      <td>Yes</td>\n",
       "      <td>No</td>\n",
       "      <td>63</td>\n",
       "      <td>Yes</td>\n",
       "      <td>...</td>\n",
       "      <td>Yes</td>\n",
       "      <td>No</td>\n",
       "      <td>No</td>\n",
       "      <td>Yes</td>\n",
       "      <td>84.65</td>\n",
       "      <td>5377.80</td>\n",
       "      <td>No</td>\n",
       "      <td>Fiber optic</td>\n",
       "      <td>Two year</td>\n",
       "      <td>Credit card (automatic)</td>\n",
       "    </tr>\n",
       "    <tr>\n",
       "      <th>8</th>\n",
       "      <td>1</td>\n",
       "      <td>1</td>\n",
       "      <td>1</td>\n",
       "      <td>0015-UOCOJ</td>\n",
       "      <td>Female</td>\n",
       "      <td>1</td>\n",
       "      <td>No</td>\n",
       "      <td>No</td>\n",
       "      <td>7</td>\n",
       "      <td>Yes</td>\n",
       "      <td>...</td>\n",
       "      <td>No</td>\n",
       "      <td>No</td>\n",
       "      <td>No</td>\n",
       "      <td>Yes</td>\n",
       "      <td>48.20</td>\n",
       "      <td>340.35</td>\n",
       "      <td>No</td>\n",
       "      <td>DSL</td>\n",
       "      <td>Month-to-month</td>\n",
       "      <td>Electronic check</td>\n",
       "    </tr>\n",
       "    <tr>\n",
       "      <th>9</th>\n",
       "      <td>2</td>\n",
       "      <td>3</td>\n",
       "      <td>1</td>\n",
       "      <td>0016-QLJIS</td>\n",
       "      <td>Female</td>\n",
       "      <td>0</td>\n",
       "      <td>Yes</td>\n",
       "      <td>Yes</td>\n",
       "      <td>65</td>\n",
       "      <td>Yes</td>\n",
       "      <td>...</td>\n",
       "      <td>Yes</td>\n",
       "      <td>Yes</td>\n",
       "      <td>Yes</td>\n",
       "      <td>Yes</td>\n",
       "      <td>90.45</td>\n",
       "      <td>5957.90</td>\n",
       "      <td>No</td>\n",
       "      <td>DSL</td>\n",
       "      <td>Two year</td>\n",
       "      <td>Mailed check</td>\n",
       "    </tr>\n",
       "  </tbody>\n",
       "</table>\n",
       "<p>10 rows × 24 columns</p>\n",
       "</div>"
      ],
      "text/plain": [
       "   payment_type_id  contract_type_id  internet_service_type_id customer_id  \\\n",
       "0                2                 2                         1  0002-ORFBO   \n",
       "1                2                 1                         1  0003-MKNFE   \n",
       "2                1                 1                         2  0004-TLHLJ   \n",
       "3                1                 1                         2  0011-IGKFF   \n",
       "4                2                 1                         2  0013-EXCHZ   \n",
       "5                4                 1                         1  0013-MHZWF   \n",
       "6                3                 3                         2  0013-SMEOE   \n",
       "7                4                 3                         2  0014-BMAQU   \n",
       "8                1                 1                         1  0015-UOCOJ   \n",
       "9                2                 3                         1  0016-QLJIS   \n",
       "\n",
       "   gender  senior_citizen partner dependents  tenure_mths phone_service  ...  \\\n",
       "0  Female               0     Yes        Yes            9           Yes  ...   \n",
       "1    Male               0      No         No            9           Yes  ...   \n",
       "2    Male               0      No         No            4           Yes  ...   \n",
       "3    Male               1     Yes         No           13           Yes  ...   \n",
       "4  Female               1     Yes         No            3           Yes  ...   \n",
       "5  Female               0      No        Yes            9           Yes  ...   \n",
       "6  Female               1     Yes         No           71           Yes  ...   \n",
       "7    Male               0     Yes         No           63           Yes  ...   \n",
       "8  Female               1      No         No            7           Yes  ...   \n",
       "9  Female               0     Yes        Yes           65           Yes  ...   \n",
       "\n",
       "  tech_support streaming_tv streaming_movies paperless_billing  \\\n",
       "0          Yes          Yes               No               Yes   \n",
       "1           No           No              Yes                No   \n",
       "2           No           No               No               Yes   \n",
       "3           No          Yes              Yes               Yes   \n",
       "4          Yes          Yes               No               Yes   \n",
       "5          Yes          Yes              Yes               Yes   \n",
       "6          Yes          Yes              Yes               Yes   \n",
       "7          Yes           No               No               Yes   \n",
       "8           No           No               No               Yes   \n",
       "9          Yes          Yes              Yes               Yes   \n",
       "\n",
       "  monthly_charges total_charges churn internet_service_type   contract_type  \\\n",
       "0           65.60        593.30    No                   DSL        One year   \n",
       "1           59.90        542.40    No                   DSL  Month-to-month   \n",
       "2           73.90        280.85   Yes           Fiber optic  Month-to-month   \n",
       "3           98.00       1237.85   Yes           Fiber optic  Month-to-month   \n",
       "4           83.90        267.40   Yes           Fiber optic  Month-to-month   \n",
       "5           69.40        571.45    No                   DSL  Month-to-month   \n",
       "6          109.70       7904.25    No           Fiber optic        Two year   \n",
       "7           84.65       5377.80    No           Fiber optic        Two year   \n",
       "8           48.20        340.35    No                   DSL  Month-to-month   \n",
       "9           90.45       5957.90    No                   DSL        Two year   \n",
       "\n",
       "                payment_type  \n",
       "0               Mailed check  \n",
       "1               Mailed check  \n",
       "2           Electronic check  \n",
       "3           Electronic check  \n",
       "4               Mailed check  \n",
       "5    Credit card (automatic)  \n",
       "6  Bank transfer (automatic)  \n",
       "7    Credit card (automatic)  \n",
       "8           Electronic check  \n",
       "9               Mailed check  \n",
       "\n",
       "[10 rows x 24 columns]"
      ]
     },
     "execution_count": 17,
     "metadata": {},
     "output_type": "execute_result"
    }
   ],
   "source": [
    "#telco_data.drop(columns= ['customer_id'], axis=1, inplace=True)\n",
    "telco_df.head(10)"
   ]
  },
  {
   "cell_type": "code",
   "execution_count": 18,
   "id": "1ac823b2",
   "metadata": {},
   "outputs": [
    {
     "data": {
      "text/plain": [
       "['payment_type_id',\n",
       " 'contract_type_id',\n",
       " 'internet_service_type_id',\n",
       " 'senior_citizen',\n",
       " 'tenure_mths',\n",
       " 'monthly_charges',\n",
       " 'total_charges']"
      ]
     },
     "execution_count": 18,
     "metadata": {},
     "output_type": "execute_result"
    }
   ],
   "source": [
    "numcols = [col for col in telco_df.columns if telco_df[col].dtype !='O']\n",
    "numcols"
   ]
  },
  {
   "cell_type": "code",
   "execution_count": 19,
   "id": "2c2fdd16",
   "metadata": {},
   "outputs": [
    {
     "name": "stdout",
     "output_type": "stream",
     "text": [
      "payment_type_id\n"
     ]
    },
    {
     "data": {
      "image/png": "[encoded data removed]",
      "text/plain": [
       "<Figure size 792x648 with 1 Axes>"
      ]
     },
     "metadata": {
      "needs_background": "light"
     },
     "output_type": "display_data"
    },
    {
     "name": "stdout",
     "output_type": "stream",
     "text": [
      "contract_type_id\n"
     ]
    },
    {
     "data": {
      "image/png": "[encoded data removed]",
      "text/plain": [
       "<Figure size 792x648 with 1 Axes>"
      ]
     },
     "metadata": {
      "needs_background": "light"
     },
     "output_type": "display_data"
    },
    {
     "name": "stdout",
     "output_type": "stream",
     "text": [
      "internet_service_type_id\n"
     ]
    },
    {
     "data": {
      "image/png": "[encoded data removed]",
      "text/plain": [
       "<Figure size 792x648 with 1 Axes>"
      ]
     },
     "metadata": {
      "needs_background": "light"
     },
     "output_type": "display_data"
    },
    {
     "name": "stdout",
     "output_type": "stream",
     "text": [
      "senior_citizen\n"
     ]
    },
    {
     "data": {
      "image/png": "[encoded data removed]",
      "text/plain": [
       "<Figure size 792x648 with 1 Axes>"
      ]
     },
     "metadata": {
      "needs_background": "light"
     },
     "output_type": "display_data"
    },
    {
     "name": "stdout",
     "output_type": "stream",
     "text": [
      "tenure_mths\n"
     ]
    },
    {
     "data": {
      "image/png": "[encoded data removed]",
      "text/plain": [
       "<Figure size 792x648 with 1 Axes>"
      ]
     },
     "metadata": {
      "needs_background": "light"
     },
     "output_type": "display_data"
    },
    {
     "name": "stdout",
     "output_type": "stream",
     "text": [
      "monthly_charges\n"
     ]
    },
    {
     "data": {
      "image/png": "[encoded data removed]",
      "text/plain": [
       "<Figure size 792x648 with 1 Axes>"
      ]
     },
     "metadata": {
      "needs_background": "light"
     },
     "output_type": "display_data"
    },
    {
     "name": "stdout",
     "output_type": "stream",
     "text": [
      "total_charges\n"
     ]
    },
    {
     "data": {
      "image/png": "[encoded data removed]",
      "text/plain": [
       "<Figure size 792x648 with 1 Axes>"
      ]
     },
     "metadata": {
      "needs_background": "light"
     },
     "output_type": "display_data"
    }
   ],
   "source": [
    "#histograms of numeric columns\n",
    "for col in numcols:\n",
    "    print(col)\n",
    "    telco_df[col].hist()\n",
    "    plt.show()"
   ]
  },
  {
   "cell_type": "code",
   "execution_count": 20,
   "id": "f831c6d7",
   "metadata": {},
   "outputs": [],
   "source": [
    "catcols = [col for col in telco_df.columns if telco_df[col].dtype == 'O']"
   ]
  },
  {
   "cell_type": "code",
   "execution_count": 21,
   "id": "d0d30818",
   "metadata": {},
   "outputs": [
    {
     "data": {
      "text/plain": [
       "['customer_id',\n",
       " 'gender',\n",
       " 'partner',\n",
       " 'dependents',\n",
       " 'phone_service',\n",
       " 'multiple_lines',\n",
       " 'online_security',\n",
       " 'online_backup',\n",
       " 'device_protection',\n",
       " 'tech_support',\n",
       " 'streaming_tv',\n",
       " 'streaming_movies',\n",
       " 'paperless_billing',\n",
       " 'churn',\n",
       " 'internet_service_type',\n",
       " 'contract_type',\n",
       " 'payment_type']"
      ]
     },
     "execution_count": 21,
     "metadata": {},
     "output_type": "execute_result"
    }
   ],
   "source": [
    "catcols"
   ]
  },
  {
   "cell_type": "markdown",
   "id": "0fc9449d",
   "metadata": {},
   "source": [
    "#### Creating a list of the categoric data types and checking the values in each"
   ]
  },
  {
   "cell_type": "code",
   "execution_count": 22,
   "id": "6ad745cf",
   "metadata": {},
   "outputs": [
    {
     "name": "stdout",
     "output_type": "stream",
     "text": [
      "Column: customer_id\n",
      "0002-ORFBO    1\n",
      "6619-RPLQZ    1\n",
      "6629-LADHQ    1\n",
      "6629-CZTTH    1\n",
      "6627-CFOSN    1\n",
      "             ..\n",
      "3359-DSRKA    1\n",
      "3354-OADJP    1\n",
      "3352-RICWQ    1\n",
      "3352-ALMCK    1\n",
      "9995-HOTOH    1\n",
      "Name: customer_id, Length: 7032, dtype: int64\n",
      "--------\n",
      "0002-ORFBO    0.000142\n",
      "6619-RPLQZ    0.000142\n",
      "6629-LADHQ    0.000142\n",
      "6629-CZTTH    0.000142\n",
      "6627-CFOSN    0.000142\n",
      "                ...   \n",
      "3359-DSRKA    0.000142\n",
      "3354-OADJP    0.000142\n",
      "3352-RICWQ    0.000142\n",
      "3352-ALMCK    0.000142\n",
      "9995-HOTOH    0.000142\n",
      "Name: customer_id, Length: 7032, dtype: float64\n",
      "=================\n",
      "Column: gender\n",
      "Male      3549\n",
      "Female    3483\n",
      "Name: gender, dtype: int64\n",
      "--------\n",
      "Male      0.504693\n",
      "Female    0.495307\n",
      "Name: gender, dtype: float64\n",
      "=================\n",
      "Column: partner\n",
      "No     3639\n",
      "Yes    3393\n",
      "Name: partner, dtype: int64\n",
      "--------\n",
      "No     0.517491\n",
      "Yes    0.482509\n",
      "Name: partner, dtype: float64\n",
      "=================\n",
      "Column: dependents\n",
      "No     4933\n",
      "Yes    2099\n",
      "Name: dependents, dtype: int64\n",
      "--------\n",
      "No     0.701507\n",
      "Yes    0.298493\n",
      "Name: dependents, dtype: float64\n",
      "=================\n",
      "Column: phone_service\n",
      "Yes    6352\n",
      "No      680\n",
      "Name: phone_service, dtype: int64\n",
      "--------\n",
      "Yes    0.903299\n",
      "No     0.096701\n",
      "Name: phone_service, dtype: float64\n",
      "=================\n",
      "Column: multiple_lines\n",
      "No                  3385\n",
      "Yes                 2967\n",
      "No phone service     680\n",
      "Name: multiple_lines, dtype: int64\n",
      "--------\n",
      "No                  0.481371\n",
      "Yes                 0.421928\n",
      "No phone service    0.096701\n",
      "Name: multiple_lines, dtype: float64\n",
      "=================\n",
      "Column: online_security\n",
      "No                     3497\n",
      "Yes                    2015\n",
      "No internet service    1520\n",
      "Name: online_security, dtype: int64\n",
      "--------\n",
      "No                     0.497298\n",
      "Yes                    0.286547\n",
      "No internet service    0.216155\n",
      "Name: online_security, dtype: float64\n",
      "=================\n",
      "Column: online_backup\n",
      "No                     3087\n",
      "Yes                    2425\n",
      "No internet service    1520\n",
      "Name: online_backup, dtype: int64\n",
      "--------\n",
      "No                     0.438993\n",
      "Yes                    0.344852\n",
      "No internet service    0.216155\n",
      "Name: online_backup, dtype: float64\n",
      "=================\n",
      "Column: device_protection\n",
      "No                     3094\n",
      "Yes                    2418\n",
      "No internet service    1520\n",
      "Name: device_protection, dtype: int64\n",
      "--------\n",
      "No                     0.439989\n",
      "Yes                    0.343857\n",
      "No internet service    0.216155\n",
      "Name: device_protection, dtype: float64\n",
      "=================\n",
      "Column: tech_support\n",
      "No                     3472\n",
      "Yes                    2040\n",
      "No internet service    1520\n",
      "Name: tech_support, dtype: int64\n",
      "--------\n",
      "No                     0.493743\n",
      "Yes                    0.290102\n",
      "No internet service    0.216155\n",
      "Name: tech_support, dtype: float64\n",
      "=================\n",
      "Column: streaming_tv\n",
      "No                     2809\n",
      "Yes                    2703\n",
      "No internet service    1520\n",
      "Name: streaming_tv, dtype: int64\n",
      "--------\n",
      "No                     0.399460\n",
      "Yes                    0.384386\n",
      "No internet service    0.216155\n",
      "Name: streaming_tv, dtype: float64\n",
      "=================\n",
      "Column: streaming_movies\n",
      "No                     2781\n",
      "Yes                    2731\n",
      "No internet service    1520\n",
      "Name: streaming_movies, dtype: int64\n",
      "--------\n",
      "No                     0.395478\n",
      "Yes                    0.388367\n",
      "No internet service    0.216155\n",
      "Name: streaming_movies, dtype: float64\n",
      "=================\n",
      "Column: paperless_billing\n",
      "Yes    4168\n",
      "No     2864\n",
      "Name: paperless_billing, dtype: int64\n",
      "--------\n",
      "Yes    0.592719\n",
      "No     0.407281\n",
      "Name: paperless_billing, dtype: float64\n",
      "=================\n",
      "Column: churn\n",
      "No     5163\n",
      "Yes    1869\n",
      "Name: churn, dtype: int64\n",
      "--------\n",
      "No     0.734215\n",
      "Yes    0.265785\n",
      "Name: churn, dtype: float64\n",
      "=================\n",
      "Column: internet_service_type\n",
      "Fiber optic    3096\n",
      "DSL            2416\n",
      "None           1520\n",
      "Name: internet_service_type, dtype: int64\n",
      "--------\n",
      "Fiber optic    0.440273\n",
      "DSL            0.343572\n",
      "None           0.216155\n",
      "Name: internet_service_type, dtype: float64\n",
      "=================\n",
      "Column: contract_type\n",
      "Month-to-month    3875\n",
      "Two year          1685\n",
      "One year          1472\n",
      "Name: contract_type, dtype: int64\n",
      "--------\n",
      "Month-to-month    0.551052\n",
      "Two year          0.239619\n",
      "One year          0.209329\n",
      "Name: contract_type, dtype: float64\n",
      "=================\n",
      "Column: payment_type\n",
      "Electronic check             2365\n",
      "Mailed check                 1604\n",
      "Bank transfer (automatic)    1542\n",
      "Credit card (automatic)      1521\n",
      "Name: payment_type, dtype: int64\n",
      "--------\n",
      "Electronic check             0.336320\n",
      "Mailed check                 0.228100\n",
      "Bank transfer (automatic)    0.219283\n",
      "Credit card (automatic)      0.216297\n",
      "Name: payment_type, dtype: float64\n",
      "=================\n"
     ]
    }
   ],
   "source": [
    "for col in catcols:\n",
    "    print(f\"Column: {col}\")\n",
    "    print(telco_df[col].value_counts())\n",
    "    print(\"--------\")\n",
    "    print(telco_df[col].value_counts(normalize=True, dropna=False))\n",
    "    print(\"=================\")"
   ]
  },
  {
   "cell_type": "markdown",
   "id": "f3b4b3c6",
   "metadata": {},
   "source": [
    "### Convert churn to 1/0 instead of Yes or No"
   ]
  },
  {
   "cell_type": "code",
   "execution_count": 23,
   "id": "bb186b95",
   "metadata": {},
   "outputs": [
    {
     "data": {
      "text/html": [
       "<div>\n",
       "<style scoped>\n",
       "    .dataframe tbody tr th:only-of-type {\n",
       "        vertical-align: middle;\n",
       "    }\n",
       "\n",
       "    .dataframe tbody tr th {\n",
       "        vertical-align: top;\n",
       "    }\n",
       "\n",
       "    .dataframe thead th {\n",
       "        text-align: right;\n",
       "    }\n",
       "</style>\n",
       "<table border=\"1\" class=\"dataframe\">\n",
       "  <thead>\n",
       "    <tr style=\"text-align: right;\">\n",
       "      <th></th>\n",
       "      <th>payment_type_id</th>\n",
       "      <th>contract_type_id</th>\n",
       "      <th>internet_service_type_id</th>\n",
       "      <th>customer_id</th>\n",
       "      <th>gender</th>\n",
       "      <th>senior_citizen</th>\n",
       "      <th>partner</th>\n",
       "      <th>dependents</th>\n",
       "      <th>tenure_mths</th>\n",
       "      <th>phone_service</th>\n",
       "      <th>...</th>\n",
       "      <th>tech_support</th>\n",
       "      <th>streaming_tv</th>\n",
       "      <th>streaming_movies</th>\n",
       "      <th>paperless_billing</th>\n",
       "      <th>monthly_charges</th>\n",
       "      <th>total_charges</th>\n",
       "      <th>churn</th>\n",
       "      <th>internet_service_type</th>\n",
       "      <th>contract_type</th>\n",
       "      <th>payment_type</th>\n",
       "    </tr>\n",
       "  </thead>\n",
       "  <tbody>\n",
       "    <tr>\n",
       "      <th>0</th>\n",
       "      <td>2</td>\n",
       "      <td>2</td>\n",
       "      <td>1</td>\n",
       "      <td>0002-ORFBO</td>\n",
       "      <td>Female</td>\n",
       "      <td>0</td>\n",
       "      <td>Yes</td>\n",
       "      <td>Yes</td>\n",
       "      <td>9</td>\n",
       "      <td>Yes</td>\n",
       "      <td>...</td>\n",
       "      <td>Yes</td>\n",
       "      <td>Yes</td>\n",
       "      <td>No</td>\n",
       "      <td>Yes</td>\n",
       "      <td>65.6</td>\n",
       "      <td>593.30</td>\n",
       "      <td>0</td>\n",
       "      <td>DSL</td>\n",
       "      <td>One year</td>\n",
       "      <td>Mailed check</td>\n",
       "    </tr>\n",
       "    <tr>\n",
       "      <th>1</th>\n",
       "      <td>2</td>\n",
       "      <td>1</td>\n",
       "      <td>1</td>\n",
       "      <td>0003-MKNFE</td>\n",
       "      <td>Male</td>\n",
       "      <td>0</td>\n",
       "      <td>No</td>\n",
       "      <td>No</td>\n",
       "      <td>9</td>\n",
       "      <td>Yes</td>\n",
       "      <td>...</td>\n",
       "      <td>No</td>\n",
       "      <td>No</td>\n",
       "      <td>Yes</td>\n",
       "      <td>No</td>\n",
       "      <td>59.9</td>\n",
       "      <td>542.40</td>\n",
       "      <td>0</td>\n",
       "      <td>DSL</td>\n",
       "      <td>Month-to-month</td>\n",
       "      <td>Mailed check</td>\n",
       "    </tr>\n",
       "    <tr>\n",
       "      <th>2</th>\n",
       "      <td>1</td>\n",
       "      <td>1</td>\n",
       "      <td>2</td>\n",
       "      <td>0004-TLHLJ</td>\n",
       "      <td>Male</td>\n",
       "      <td>0</td>\n",
       "      <td>No</td>\n",
       "      <td>No</td>\n",
       "      <td>4</td>\n",
       "      <td>Yes</td>\n",
       "      <td>...</td>\n",
       "      <td>No</td>\n",
       "      <td>No</td>\n",
       "      <td>No</td>\n",
       "      <td>Yes</td>\n",
       "      <td>73.9</td>\n",
       "      <td>280.85</td>\n",
       "      <td>1</td>\n",
       "      <td>Fiber optic</td>\n",
       "      <td>Month-to-month</td>\n",
       "      <td>Electronic check</td>\n",
       "    </tr>\n",
       "    <tr>\n",
       "      <th>3</th>\n",
       "      <td>1</td>\n",
       "      <td>1</td>\n",
       "      <td>2</td>\n",
       "      <td>0011-IGKFF</td>\n",
       "      <td>Male</td>\n",
       "      <td>1</td>\n",
       "      <td>Yes</td>\n",
       "      <td>No</td>\n",
       "      <td>13</td>\n",
       "      <td>Yes</td>\n",
       "      <td>...</td>\n",
       "      <td>No</td>\n",
       "      <td>Yes</td>\n",
       "      <td>Yes</td>\n",
       "      <td>Yes</td>\n",
       "      <td>98.0</td>\n",
       "      <td>1237.85</td>\n",
       "      <td>1</td>\n",
       "      <td>Fiber optic</td>\n",
       "      <td>Month-to-month</td>\n",
       "      <td>Electronic check</td>\n",
       "    </tr>\n",
       "    <tr>\n",
       "      <th>4</th>\n",
       "      <td>2</td>\n",
       "      <td>1</td>\n",
       "      <td>2</td>\n",
       "      <td>0013-EXCHZ</td>\n",
       "      <td>Female</td>\n",
       "      <td>1</td>\n",
       "      <td>Yes</td>\n",
       "      <td>No</td>\n",
       "      <td>3</td>\n",
       "      <td>Yes</td>\n",
       "      <td>...</td>\n",
       "      <td>Yes</td>\n",
       "      <td>Yes</td>\n",
       "      <td>No</td>\n",
       "      <td>Yes</td>\n",
       "      <td>83.9</td>\n",
       "      <td>267.40</td>\n",
       "      <td>1</td>\n",
       "      <td>Fiber optic</td>\n",
       "      <td>Month-to-month</td>\n",
       "      <td>Mailed check</td>\n",
       "    </tr>\n",
       "  </tbody>\n",
       "</table>\n",
       "<p>5 rows × 24 columns</p>\n",
       "</div>"
      ],
      "text/plain": [
       "   payment_type_id  contract_type_id  internet_service_type_id customer_id  \\\n",
       "0                2                 2                         1  0002-ORFBO   \n",
       "1                2                 1                         1  0003-MKNFE   \n",
       "2                1                 1                         2  0004-TLHLJ   \n",
       "3                1                 1                         2  0011-IGKFF   \n",
       "4                2                 1                         2  0013-EXCHZ   \n",
       "\n",
       "   gender  senior_citizen partner dependents  tenure_mths phone_service  ...  \\\n",
       "0  Female               0     Yes        Yes            9           Yes  ...   \n",
       "1    Male               0      No         No            9           Yes  ...   \n",
       "2    Male               0      No         No            4           Yes  ...   \n",
       "3    Male               1     Yes         No           13           Yes  ...   \n",
       "4  Female               1     Yes         No            3           Yes  ...   \n",
       "\n",
       "  tech_support streaming_tv streaming_movies paperless_billing  \\\n",
       "0          Yes          Yes               No               Yes   \n",
       "1           No           No              Yes                No   \n",
       "2           No           No               No               Yes   \n",
       "3           No          Yes              Yes               Yes   \n",
       "4          Yes          Yes               No               Yes   \n",
       "\n",
       "  monthly_charges total_charges churn internet_service_type   contract_type  \\\n",
       "0            65.6        593.30     0                   DSL        One year   \n",
       "1            59.9        542.40     0                   DSL  Month-to-month   \n",
       "2            73.9        280.85     1           Fiber optic  Month-to-month   \n",
       "3            98.0       1237.85     1           Fiber optic  Month-to-month   \n",
       "4            83.9        267.40     1           Fiber optic  Month-to-month   \n",
       "\n",
       "       payment_type  \n",
       "0      Mailed check  \n",
       "1      Mailed check  \n",
       "2  Electronic check  \n",
       "3  Electronic check  \n",
       "4      Mailed check  \n",
       "\n",
       "[5 rows x 24 columns]"
      ]
     },
     "execution_count": 23,
     "metadata": {},
     "output_type": "execute_result"
    }
   ],
   "source": [
    "telco_df['churn'] = np.where(telco_df.churn == 'Yes',1,0)\n",
    "telco_df.head()"
   ]
  },
  {
   "cell_type": "markdown",
   "id": "4b72cd7c",
   "metadata": {},
   "source": [
    "### Converting gender to 1/0 - 1 for Male 0 for Female"
   ]
  },
  {
   "cell_type": "code",
   "execution_count": 24,
   "id": "e33dfcbb",
   "metadata": {},
   "outputs": [
    {
     "data": {
      "text/html": [
       "<div>\n",
       "<style scoped>\n",
       "    .dataframe tbody tr th:only-of-type {\n",
       "        vertical-align: middle;\n",
       "    }\n",
       "\n",
       "    .dataframe tbody tr th {\n",
       "        vertical-align: top;\n",
       "    }\n",
       "\n",
       "    .dataframe thead th {\n",
       "        text-align: right;\n",
       "    }\n",
       "</style>\n",
       "<table border=\"1\" class=\"dataframe\">\n",
       "  <thead>\n",
       "    <tr style=\"text-align: right;\">\n",
       "      <th></th>\n",
       "      <th>payment_type_id</th>\n",
       "      <th>contract_type_id</th>\n",
       "      <th>internet_service_type_id</th>\n",
       "      <th>customer_id</th>\n",
       "      <th>gender</th>\n",
       "      <th>senior_citizen</th>\n",
       "      <th>partner</th>\n",
       "      <th>dependents</th>\n",
       "      <th>tenure_mths</th>\n",
       "      <th>phone_service</th>\n",
       "      <th>...</th>\n",
       "      <th>tech_support</th>\n",
       "      <th>streaming_tv</th>\n",
       "      <th>streaming_movies</th>\n",
       "      <th>paperless_billing</th>\n",
       "      <th>monthly_charges</th>\n",
       "      <th>total_charges</th>\n",
       "      <th>churn</th>\n",
       "      <th>internet_service_type</th>\n",
       "      <th>contract_type</th>\n",
       "      <th>payment_type</th>\n",
       "    </tr>\n",
       "  </thead>\n",
       "  <tbody>\n",
       "    <tr>\n",
       "      <th>0</th>\n",
       "      <td>2</td>\n",
       "      <td>2</td>\n",
       "      <td>1</td>\n",
       "      <td>0002-ORFBO</td>\n",
       "      <td>0</td>\n",
       "      <td>0</td>\n",
       "      <td>Yes</td>\n",
       "      <td>Yes</td>\n",
       "      <td>9</td>\n",
       "      <td>Yes</td>\n",
       "      <td>...</td>\n",
       "      <td>Yes</td>\n",
       "      <td>Yes</td>\n",
       "      <td>No</td>\n",
       "      <td>Yes</td>\n",
       "      <td>65.6</td>\n",
       "      <td>593.30</td>\n",
       "      <td>0</td>\n",
       "      <td>DSL</td>\n",
       "      <td>One year</td>\n",
       "      <td>Mailed check</td>\n",
       "    </tr>\n",
       "    <tr>\n",
       "      <th>1</th>\n",
       "      <td>2</td>\n",
       "      <td>1</td>\n",
       "      <td>1</td>\n",
       "      <td>0003-MKNFE</td>\n",
       "      <td>1</td>\n",
       "      <td>0</td>\n",
       "      <td>No</td>\n",
       "      <td>No</td>\n",
       "      <td>9</td>\n",
       "      <td>Yes</td>\n",
       "      <td>...</td>\n",
       "      <td>No</td>\n",
       "      <td>No</td>\n",
       "      <td>Yes</td>\n",
       "      <td>No</td>\n",
       "      <td>59.9</td>\n",
       "      <td>542.40</td>\n",
       "      <td>0</td>\n",
       "      <td>DSL</td>\n",
       "      <td>Month-to-month</td>\n",
       "      <td>Mailed check</td>\n",
       "    </tr>\n",
       "    <tr>\n",
       "      <th>2</th>\n",
       "      <td>1</td>\n",
       "      <td>1</td>\n",
       "      <td>2</td>\n",
       "      <td>0004-TLHLJ</td>\n",
       "      <td>1</td>\n",
       "      <td>0</td>\n",
       "      <td>No</td>\n",
       "      <td>No</td>\n",
       "      <td>4</td>\n",
       "      <td>Yes</td>\n",
       "      <td>...</td>\n",
       "      <td>No</td>\n",
       "      <td>No</td>\n",
       "      <td>No</td>\n",
       "      <td>Yes</td>\n",
       "      <td>73.9</td>\n",
       "      <td>280.85</td>\n",
       "      <td>1</td>\n",
       "      <td>Fiber optic</td>\n",
       "      <td>Month-to-month</td>\n",
       "      <td>Electronic check</td>\n",
       "    </tr>\n",
       "    <tr>\n",
       "      <th>3</th>\n",
       "      <td>1</td>\n",
       "      <td>1</td>\n",
       "      <td>2</td>\n",
       "      <td>0011-IGKFF</td>\n",
       "      <td>1</td>\n",
       "      <td>1</td>\n",
       "      <td>Yes</td>\n",
       "      <td>No</td>\n",
       "      <td>13</td>\n",
       "      <td>Yes</td>\n",
       "      <td>...</td>\n",
       "      <td>No</td>\n",
       "      <td>Yes</td>\n",
       "      <td>Yes</td>\n",
       "      <td>Yes</td>\n",
       "      <td>98.0</td>\n",
       "      <td>1237.85</td>\n",
       "      <td>1</td>\n",
       "      <td>Fiber optic</td>\n",
       "      <td>Month-to-month</td>\n",
       "      <td>Electronic check</td>\n",
       "    </tr>\n",
       "    <tr>\n",
       "      <th>4</th>\n",
       "      <td>2</td>\n",
       "      <td>1</td>\n",
       "      <td>2</td>\n",
       "      <td>0013-EXCHZ</td>\n",
       "      <td>0</td>\n",
       "      <td>1</td>\n",
       "      <td>Yes</td>\n",
       "      <td>No</td>\n",
       "      <td>3</td>\n",
       "      <td>Yes</td>\n",
       "      <td>...</td>\n",
       "      <td>Yes</td>\n",
       "      <td>Yes</td>\n",
       "      <td>No</td>\n",
       "      <td>Yes</td>\n",
       "      <td>83.9</td>\n",
       "      <td>267.40</td>\n",
       "      <td>1</td>\n",
       "      <td>Fiber optic</td>\n",
       "      <td>Month-to-month</td>\n",
       "      <td>Mailed check</td>\n",
       "    </tr>\n",
       "  </tbody>\n",
       "</table>\n",
       "<p>5 rows × 24 columns</p>\n",
       "</div>"
      ],
      "text/plain": [
       "   payment_type_id  contract_type_id  internet_service_type_id customer_id  \\\n",
       "0                2                 2                         1  0002-ORFBO   \n",
       "1                2                 1                         1  0003-MKNFE   \n",
       "2                1                 1                         2  0004-TLHLJ   \n",
       "3                1                 1                         2  0011-IGKFF   \n",
       "4                2                 1                         2  0013-EXCHZ   \n",
       "\n",
       "   gender  senior_citizen partner dependents  tenure_mths phone_service  ...  \\\n",
       "0       0               0     Yes        Yes            9           Yes  ...   \n",
       "1       1               0      No         No            9           Yes  ...   \n",
       "2       1               0      No         No            4           Yes  ...   \n",
       "3       1               1     Yes         No           13           Yes  ...   \n",
       "4       0               1     Yes         No            3           Yes  ...   \n",
       "\n",
       "  tech_support streaming_tv streaming_movies paperless_billing  \\\n",
       "0          Yes          Yes               No               Yes   \n",
       "1           No           No              Yes                No   \n",
       "2           No           No               No               Yes   \n",
       "3           No          Yes              Yes               Yes   \n",
       "4          Yes          Yes               No               Yes   \n",
       "\n",
       "  monthly_charges total_charges churn internet_service_type   contract_type  \\\n",
       "0            65.6        593.30     0                   DSL        One year   \n",
       "1            59.9        542.40     0                   DSL  Month-to-month   \n",
       "2            73.9        280.85     1           Fiber optic  Month-to-month   \n",
       "3            98.0       1237.85     1           Fiber optic  Month-to-month   \n",
       "4            83.9        267.40     1           Fiber optic  Month-to-month   \n",
       "\n",
       "       payment_type  \n",
       "0      Mailed check  \n",
       "1      Mailed check  \n",
       "2  Electronic check  \n",
       "3  Electronic check  \n",
       "4      Mailed check  \n",
       "\n",
       "[5 rows x 24 columns]"
      ]
     },
     "execution_count": 24,
     "metadata": {},
     "output_type": "execute_result"
    }
   ],
   "source": [
    "telco_df['gender'] = np.where(telco_df.gender == 'Male',1,0)\n",
    "telco_df.head()"
   ]
  },
  {
   "cell_type": "markdown",
   "id": "a8dafb07",
   "metadata": {},
   "source": [
    "### Converting Remainder yes or No to 1/0"
   ]
  },
  {
   "cell_type": "code",
   "execution_count": 25,
   "id": "d4efe88f",
   "metadata": {},
   "outputs": [
    {
     "data": {
      "text/plain": [
       "0                  Mailed check\n",
       "1                  Mailed check\n",
       "2              Electronic check\n",
       "3              Electronic check\n",
       "4                  Mailed check\n",
       "5       Credit card (automatic)\n",
       "6     Bank transfer (automatic)\n",
       "7       Credit card (automatic)\n",
       "8              Electronic check\n",
       "9                  Mailed check\n",
       "10      Credit card (automatic)\n",
       "11      Credit card (automatic)\n",
       "12             Electronic check\n",
       "13    Bank transfer (automatic)\n",
       "14    Bank transfer (automatic)\n",
       "15      Credit card (automatic)\n",
       "16                 Mailed check\n",
       "17             Electronic check\n",
       "18      Credit card (automatic)\n",
       "19             Electronic check\n",
       "Name: payment_type, dtype: object"
      ]
     },
     "execution_count": 25,
     "metadata": {},
     "output_type": "execute_result"
    }
   ],
   "source": [
    "telco_df.payment_type.head(20)"
   ]
  },
  {
   "cell_type": "code",
   "execution_count": 26,
   "id": "a5c07948",
   "metadata": {},
   "outputs": [],
   "source": [
    "telco_df['payment_type'] = telco_df.payment_type.replace({'Electronic check': 0,'Mailed check': 0, \n",
    "                                                          'Bank transfer (automatic)': 1, \n",
    "                                                          'Credit card (automatic)': 1})\n"
   ]
  },
  {
   "cell_type": "code",
   "execution_count": 27,
   "id": "789f0398",
   "metadata": {},
   "outputs": [
    {
     "data": {
      "text/html": [
       "<div>\n",
       "<style scoped>\n",
       "    .dataframe tbody tr th:only-of-type {\n",
       "        vertical-align: middle;\n",
       "    }\n",
       "\n",
       "    .dataframe tbody tr th {\n",
       "        vertical-align: top;\n",
       "    }\n",
       "\n",
       "    .dataframe thead th {\n",
       "        text-align: right;\n",
       "    }\n",
       "</style>\n",
       "<table border=\"1\" class=\"dataframe\">\n",
       "  <thead>\n",
       "    <tr style=\"text-align: right;\">\n",
       "      <th></th>\n",
       "      <th>0</th>\n",
       "      <th>1</th>\n",
       "      <th>2</th>\n",
       "      <th>3</th>\n",
       "      <th>4</th>\n",
       "    </tr>\n",
       "  </thead>\n",
       "  <tbody>\n",
       "    <tr>\n",
       "      <th>payment_type_id</th>\n",
       "      <td>2</td>\n",
       "      <td>2</td>\n",
       "      <td>1</td>\n",
       "      <td>1</td>\n",
       "      <td>2</td>\n",
       "    </tr>\n",
       "    <tr>\n",
       "      <th>contract_type_id</th>\n",
       "      <td>2</td>\n",
       "      <td>1</td>\n",
       "      <td>1</td>\n",
       "      <td>1</td>\n",
       "      <td>1</td>\n",
       "    </tr>\n",
       "    <tr>\n",
       "      <th>customer_id</th>\n",
       "      <td>0002-ORFBO</td>\n",
       "      <td>0003-MKNFE</td>\n",
       "      <td>0004-TLHLJ</td>\n",
       "      <td>0011-IGKFF</td>\n",
       "      <td>0013-EXCHZ</td>\n",
       "    </tr>\n",
       "    <tr>\n",
       "      <th>gender</th>\n",
       "      <td>0</td>\n",
       "      <td>1</td>\n",
       "      <td>1</td>\n",
       "      <td>1</td>\n",
       "      <td>0</td>\n",
       "    </tr>\n",
       "    <tr>\n",
       "      <th>senior_citizen</th>\n",
       "      <td>0</td>\n",
       "      <td>0</td>\n",
       "      <td>0</td>\n",
       "      <td>1</td>\n",
       "      <td>1</td>\n",
       "    </tr>\n",
       "    <tr>\n",
       "      <th>partner</th>\n",
       "      <td>1</td>\n",
       "      <td>0</td>\n",
       "      <td>0</td>\n",
       "      <td>1</td>\n",
       "      <td>1</td>\n",
       "    </tr>\n",
       "    <tr>\n",
       "      <th>dependents</th>\n",
       "      <td>1</td>\n",
       "      <td>0</td>\n",
       "      <td>0</td>\n",
       "      <td>0</td>\n",
       "      <td>0</td>\n",
       "    </tr>\n",
       "    <tr>\n",
       "      <th>tenure_mths</th>\n",
       "      <td>9</td>\n",
       "      <td>9</td>\n",
       "      <td>4</td>\n",
       "      <td>13</td>\n",
       "      <td>3</td>\n",
       "    </tr>\n",
       "    <tr>\n",
       "      <th>phone_service</th>\n",
       "      <td>1</td>\n",
       "      <td>1</td>\n",
       "      <td>1</td>\n",
       "      <td>1</td>\n",
       "      <td>1</td>\n",
       "    </tr>\n",
       "    <tr>\n",
       "      <th>multiple_lines</th>\n",
       "      <td>1</td>\n",
       "      <td>2</td>\n",
       "      <td>1</td>\n",
       "      <td>1</td>\n",
       "      <td>1</td>\n",
       "    </tr>\n",
       "    <tr>\n",
       "      <th>online_security</th>\n",
       "      <td>0</td>\n",
       "      <td>0</td>\n",
       "      <td>0</td>\n",
       "      <td>0</td>\n",
       "      <td>0</td>\n",
       "    </tr>\n",
       "    <tr>\n",
       "      <th>online_backup</th>\n",
       "      <td>1</td>\n",
       "      <td>0</td>\n",
       "      <td>0</td>\n",
       "      <td>1</td>\n",
       "      <td>0</td>\n",
       "    </tr>\n",
       "    <tr>\n",
       "      <th>device_protection</th>\n",
       "      <td>0</td>\n",
       "      <td>0</td>\n",
       "      <td>1</td>\n",
       "      <td>1</td>\n",
       "      <td>0</td>\n",
       "    </tr>\n",
       "    <tr>\n",
       "      <th>tech_support</th>\n",
       "      <td>1</td>\n",
       "      <td>0</td>\n",
       "      <td>0</td>\n",
       "      <td>0</td>\n",
       "      <td>1</td>\n",
       "    </tr>\n",
       "    <tr>\n",
       "      <th>streaming_tv</th>\n",
       "      <td>1</td>\n",
       "      <td>0</td>\n",
       "      <td>0</td>\n",
       "      <td>1</td>\n",
       "      <td>1</td>\n",
       "    </tr>\n",
       "    <tr>\n",
       "      <th>streaming_movies</th>\n",
       "      <td>0</td>\n",
       "      <td>1</td>\n",
       "      <td>0</td>\n",
       "      <td>1</td>\n",
       "      <td>0</td>\n",
       "    </tr>\n",
       "    <tr>\n",
       "      <th>paperless_billing</th>\n",
       "      <td>1</td>\n",
       "      <td>0</td>\n",
       "      <td>1</td>\n",
       "      <td>1</td>\n",
       "      <td>1</td>\n",
       "    </tr>\n",
       "    <tr>\n",
       "      <th>monthly_charges</th>\n",
       "      <td>65.6</td>\n",
       "      <td>59.9</td>\n",
       "      <td>73.9</td>\n",
       "      <td>98.0</td>\n",
       "      <td>83.9</td>\n",
       "    </tr>\n",
       "    <tr>\n",
       "      <th>total_charges</th>\n",
       "      <td>593.3</td>\n",
       "      <td>542.4</td>\n",
       "      <td>280.85</td>\n",
       "      <td>1237.85</td>\n",
       "      <td>267.4</td>\n",
       "    </tr>\n",
       "    <tr>\n",
       "      <th>churn</th>\n",
       "      <td>0</td>\n",
       "      <td>0</td>\n",
       "      <td>1</td>\n",
       "      <td>1</td>\n",
       "      <td>1</td>\n",
       "    </tr>\n",
       "    <tr>\n",
       "      <th>internet_service_type</th>\n",
       "      <td>1</td>\n",
       "      <td>1</td>\n",
       "      <td>1</td>\n",
       "      <td>1</td>\n",
       "      <td>1</td>\n",
       "    </tr>\n",
       "    <tr>\n",
       "      <th>contract_type</th>\n",
       "      <td>1</td>\n",
       "      <td>0</td>\n",
       "      <td>0</td>\n",
       "      <td>0</td>\n",
       "      <td>0</td>\n",
       "    </tr>\n",
       "    <tr>\n",
       "      <th>automatic_payment</th>\n",
       "      <td>0</td>\n",
       "      <td>0</td>\n",
       "      <td>0</td>\n",
       "      <td>0</td>\n",
       "      <td>0</td>\n",
       "    </tr>\n",
       "  </tbody>\n",
       "</table>\n",
       "</div>"
      ],
      "text/plain": [
       "                                0           1           2           3  \\\n",
       "payment_type_id                 2           2           1           1   \n",
       "contract_type_id                2           1           1           1   \n",
       "customer_id            0002-ORFBO  0003-MKNFE  0004-TLHLJ  0011-IGKFF   \n",
       "gender                          0           1           1           1   \n",
       "senior_citizen                  0           0           0           1   \n",
       "partner                         1           0           0           1   \n",
       "dependents                      1           0           0           0   \n",
       "tenure_mths                     9           9           4          13   \n",
       "phone_service                   1           1           1           1   \n",
       "multiple_lines                  1           2           1           1   \n",
       "online_security                 0           0           0           0   \n",
       "online_backup                   1           0           0           1   \n",
       "device_protection               0           0           1           1   \n",
       "tech_support                    1           0           0           0   \n",
       "streaming_tv                    1           0           0           1   \n",
       "streaming_movies                0           1           0           1   \n",
       "paperless_billing               1           0           1           1   \n",
       "monthly_charges              65.6        59.9        73.9        98.0   \n",
       "total_charges               593.3       542.4      280.85     1237.85   \n",
       "churn                           0           0           1           1   \n",
       "internet_service_type           1           1           1           1   \n",
       "contract_type                   1           0           0           0   \n",
       "automatic_payment               0           0           0           0   \n",
       "\n",
       "                                4  \n",
       "payment_type_id                 2  \n",
       "contract_type_id                1  \n",
       "customer_id            0013-EXCHZ  \n",
       "gender                          0  \n",
       "senior_citizen                  1  \n",
       "partner                         1  \n",
       "dependents                      0  \n",
       "tenure_mths                     3  \n",
       "phone_service                   1  \n",
       "multiple_lines                  1  \n",
       "online_security                 0  \n",
       "online_backup                   0  \n",
       "device_protection               0  \n",
       "tech_support                    1  \n",
       "streaming_tv                    1  \n",
       "streaming_movies                0  \n",
       "paperless_billing               1  \n",
       "monthly_charges              83.9  \n",
       "total_charges               267.4  \n",
       "churn                           1  \n",
       "internet_service_type           1  \n",
       "contract_type                   0  \n",
       "automatic_payment               0  "
      ]
     },
     "execution_count": 27,
     "metadata": {},
     "output_type": "execute_result"
    }
   ],
   "source": [
    "telco_df['online_security'] = telco_df.online_security.replace({'No internet service': 0, 'No': 0, 'Yes': 1})\n",
    "telco_df['online_backup'] = telco_df.online_backup.replace({'No internet service': 0, 'No': 0, 'Yes': 1})\n",
    "telco_df['device_protection'] = telco_df.device_protection.replace({'No internet service': 0, 'No': 0, 'Yes': 1})\n",
    "telco_df['tech_support'] = telco_df.tech_support.replace({'No internet service': 0, 'No': 0, 'Yes': 1})\n",
    "telco_df['contract_type'] = telco_df.contract_type.replace({'Month-to-month':0, 'One year':1, 'Two year':2})\n",
    "telco_df['internet_service_type'] = telco_df.internet_service_type.replace({'None': 0, 'DSL': 1, 'Fiber optic': 1})\n",
    "telco_df = telco_df.drop('internet_service_type_id',axis=1)\n",
    "telco_df = telco_df.rename(columns = {'payment_type':'automatic_payment'})\n",
    "telco_df['partner'] = telco_df['partner'].replace({'No': 0, 'Yes': 1})\n",
    "telco_df['dependents'] = telco_df['dependents'].replace({'No': 0, 'Yes': 1})\n",
    "telco_df['phone_service'] = telco_df['phone_service'].replace({'No': 0, 'Yes': 1})\n",
    "telco_df['paperless_billing'] = telco_df['paperless_billing'].replace({'No': 0, 'Yes': 1})\n",
    "telco_df['multiple_lines'] = telco_df.multiple_lines.replace({'No phone service': 0, 'No': 1, 'Yes': 2})\n",
    "telco_df['streaming_movies'] = telco_df.streaming_movies.replace({'No internet service': 0, 'No': 0, 'Yes': 1})\n",
    "telco_df['streaming_tv'] = telco_df.streaming_tv.replace({'No internet service': 0, 'No': 0, 'Yes': 1})\n",
    "\n",
    "telco_df.head().T"
   ]
  },
  {
   "cell_type": "code",
   "execution_count": 28,
   "id": "55d57d5c",
   "metadata": {},
   "outputs": [
    {
     "data": {
      "text/html": [
       "<div>\n",
       "<style scoped>\n",
       "    .dataframe tbody tr th:only-of-type {\n",
       "        vertical-align: middle;\n",
       "    }\n",
       "\n",
       "    .dataframe tbody tr th {\n",
       "        vertical-align: top;\n",
       "    }\n",
       "\n",
       "    .dataframe thead th {\n",
       "        text-align: right;\n",
       "    }\n",
       "</style>\n",
       "<table border=\"1\" class=\"dataframe\">\n",
       "  <thead>\n",
       "    <tr style=\"text-align: right;\">\n",
       "      <th></th>\n",
       "      <th>payment_type_id</th>\n",
       "      <th>contract_type_id</th>\n",
       "      <th>customer_id</th>\n",
       "      <th>senior_citizen</th>\n",
       "      <th>partner</th>\n",
       "      <th>dependents</th>\n",
       "      <th>tenure_mths</th>\n",
       "      <th>multiple_lines</th>\n",
       "      <th>online_security</th>\n",
       "      <th>online_backup</th>\n",
       "      <th>...</th>\n",
       "      <th>streaming_tv</th>\n",
       "      <th>streaming_movies</th>\n",
       "      <th>paperless_billing</th>\n",
       "      <th>monthly_charges</th>\n",
       "      <th>total_charges</th>\n",
       "      <th>churn</th>\n",
       "      <th>internet_service_type</th>\n",
       "      <th>contract_type</th>\n",
       "      <th>automatic_payment</th>\n",
       "      <th>1</th>\n",
       "    </tr>\n",
       "  </thead>\n",
       "  <tbody>\n",
       "    <tr>\n",
       "      <th>0</th>\n",
       "      <td>2</td>\n",
       "      <td>2</td>\n",
       "      <td>0002-ORFBO</td>\n",
       "      <td>0</td>\n",
       "      <td>1</td>\n",
       "      <td>1</td>\n",
       "      <td>9</td>\n",
       "      <td>1</td>\n",
       "      <td>0</td>\n",
       "      <td>1</td>\n",
       "      <td>...</td>\n",
       "      <td>1</td>\n",
       "      <td>0</td>\n",
       "      <td>1</td>\n",
       "      <td>65.6</td>\n",
       "      <td>593.3</td>\n",
       "      <td>0</td>\n",
       "      <td>1</td>\n",
       "      <td>1</td>\n",
       "      <td>0</td>\n",
       "      <td>0</td>\n",
       "    </tr>\n",
       "  </tbody>\n",
       "</table>\n",
       "<p>1 rows × 22 columns</p>\n",
       "</div>"
      ],
      "text/plain": [
       "   payment_type_id  contract_type_id customer_id  senior_citizen  partner  \\\n",
       "0                2                 2  0002-ORFBO               0        1   \n",
       "\n",
       "   dependents  tenure_mths  multiple_lines  online_security  online_backup  \\\n",
       "0           1            9               1                0              1   \n",
       "\n",
       "   ...  streaming_tv  streaming_movies  paperless_billing  monthly_charges  \\\n",
       "0  ...             1                 0                  1             65.6   \n",
       "\n",
       "   total_charges  churn  internet_service_type  contract_type  \\\n",
       "0          593.3      0                      1              1   \n",
       "\n",
       "   automatic_payment  1  \n",
       "0                  0  0  \n",
       "\n",
       "[1 rows x 22 columns]"
      ]
     },
     "execution_count": 28,
     "metadata": {},
     "output_type": "execute_result"
    }
   ],
   "source": [
    "# Concatenate the dummy_df dataframe above with the original df and validate.\n",
    "dummy_df = pd.get_dummies(telco_df.gender, drop_first=True)\n",
    "df = pd.concat([telco_df, dummy_df], axis=1)\n",
    "df = df.drop(['gender','phone_service'], axis=1)\n",
    "df.head(1)\n"
   ]
  },
  {
   "cell_type": "markdown",
   "id": "b1ca5b24",
   "metadata": {},
   "source": [
    "### Convert categorical variables into dummmy variables"
   ]
  },
  {
   "cell_type": "code",
   "execution_count": 29,
   "id": "63e034d8",
   "metadata": {},
   "outputs": [
    {
     "data": {
      "text/html": [
       "<div>\n",
       "<style scoped>\n",
       "    .dataframe tbody tr th:only-of-type {\n",
       "        vertical-align: middle;\n",
       "    }\n",
       "\n",
       "    .dataframe tbody tr th {\n",
       "        vertical-align: top;\n",
       "    }\n",
       "\n",
       "    .dataframe thead th {\n",
       "        text-align: right;\n",
       "    }\n",
       "</style>\n",
       "<table border=\"1\" class=\"dataframe\">\n",
       "  <thead>\n",
       "    <tr style=\"text-align: right;\">\n",
       "      <th></th>\n",
       "      <th>payment_type_id</th>\n",
       "      <th>contract_type_id</th>\n",
       "      <th>gender</th>\n",
       "      <th>senior_citizen</th>\n",
       "      <th>partner</th>\n",
       "      <th>dependents</th>\n",
       "      <th>tenure_mths</th>\n",
       "      <th>phone_service</th>\n",
       "      <th>multiple_lines</th>\n",
       "      <th>online_security</th>\n",
       "      <th>...</th>\n",
       "      <th>customer_id_9975-SKRNR</th>\n",
       "      <th>customer_id_9978-HYCIN</th>\n",
       "      <th>customer_id_9979-RGMZT</th>\n",
       "      <th>customer_id_9985-MWVIX</th>\n",
       "      <th>customer_id_9986-BONCE</th>\n",
       "      <th>customer_id_9987-LUTYD</th>\n",
       "      <th>customer_id_9992-RRAMN</th>\n",
       "      <th>customer_id_9992-UJOEL</th>\n",
       "      <th>customer_id_9993-LHIEB</th>\n",
       "      <th>customer_id_9995-HOTOH</th>\n",
       "    </tr>\n",
       "  </thead>\n",
       "  <tbody>\n",
       "    <tr>\n",
       "      <th>0</th>\n",
       "      <td>2</td>\n",
       "      <td>2</td>\n",
       "      <td>0</td>\n",
       "      <td>0</td>\n",
       "      <td>1</td>\n",
       "      <td>1</td>\n",
       "      <td>9</td>\n",
       "      <td>1</td>\n",
       "      <td>1</td>\n",
       "      <td>0</td>\n",
       "      <td>...</td>\n",
       "      <td>0</td>\n",
       "      <td>0</td>\n",
       "      <td>0</td>\n",
       "      <td>0</td>\n",
       "      <td>0</td>\n",
       "      <td>0</td>\n",
       "      <td>0</td>\n",
       "      <td>0</td>\n",
       "      <td>0</td>\n",
       "      <td>0</td>\n",
       "    </tr>\n",
       "    <tr>\n",
       "      <th>1</th>\n",
       "      <td>2</td>\n",
       "      <td>1</td>\n",
       "      <td>1</td>\n",
       "      <td>0</td>\n",
       "      <td>0</td>\n",
       "      <td>0</td>\n",
       "      <td>9</td>\n",
       "      <td>1</td>\n",
       "      <td>2</td>\n",
       "      <td>0</td>\n",
       "      <td>...</td>\n",
       "      <td>0</td>\n",
       "      <td>0</td>\n",
       "      <td>0</td>\n",
       "      <td>0</td>\n",
       "      <td>0</td>\n",
       "      <td>0</td>\n",
       "      <td>0</td>\n",
       "      <td>0</td>\n",
       "      <td>0</td>\n",
       "      <td>0</td>\n",
       "    </tr>\n",
       "    <tr>\n",
       "      <th>2</th>\n",
       "      <td>1</td>\n",
       "      <td>1</td>\n",
       "      <td>1</td>\n",
       "      <td>0</td>\n",
       "      <td>0</td>\n",
       "      <td>0</td>\n",
       "      <td>4</td>\n",
       "      <td>1</td>\n",
       "      <td>1</td>\n",
       "      <td>0</td>\n",
       "      <td>...</td>\n",
       "      <td>0</td>\n",
       "      <td>0</td>\n",
       "      <td>0</td>\n",
       "      <td>0</td>\n",
       "      <td>0</td>\n",
       "      <td>0</td>\n",
       "      <td>0</td>\n",
       "      <td>0</td>\n",
       "      <td>0</td>\n",
       "      <td>0</td>\n",
       "    </tr>\n",
       "    <tr>\n",
       "      <th>3</th>\n",
       "      <td>1</td>\n",
       "      <td>1</td>\n",
       "      <td>1</td>\n",
       "      <td>1</td>\n",
       "      <td>1</td>\n",
       "      <td>0</td>\n",
       "      <td>13</td>\n",
       "      <td>1</td>\n",
       "      <td>1</td>\n",
       "      <td>0</td>\n",
       "      <td>...</td>\n",
       "      <td>0</td>\n",
       "      <td>0</td>\n",
       "      <td>0</td>\n",
       "      <td>0</td>\n",
       "      <td>0</td>\n",
       "      <td>0</td>\n",
       "      <td>0</td>\n",
       "      <td>0</td>\n",
       "      <td>0</td>\n",
       "      <td>0</td>\n",
       "    </tr>\n",
       "    <tr>\n",
       "      <th>4</th>\n",
       "      <td>2</td>\n",
       "      <td>1</td>\n",
       "      <td>0</td>\n",
       "      <td>1</td>\n",
       "      <td>1</td>\n",
       "      <td>0</td>\n",
       "      <td>3</td>\n",
       "      <td>1</td>\n",
       "      <td>1</td>\n",
       "      <td>0</td>\n",
       "      <td>...</td>\n",
       "      <td>0</td>\n",
       "      <td>0</td>\n",
       "      <td>0</td>\n",
       "      <td>0</td>\n",
       "      <td>0</td>\n",
       "      <td>0</td>\n",
       "      <td>0</td>\n",
       "      <td>0</td>\n",
       "      <td>0</td>\n",
       "      <td>0</td>\n",
       "    </tr>\n",
       "  </tbody>\n",
       "</table>\n",
       "<p>5 rows × 7054 columns</p>\n",
       "</div>"
      ],
      "text/plain": [
       "   payment_type_id  contract_type_id  gender  senior_citizen  partner  \\\n",
       "0                2                 2       0               0        1   \n",
       "1                2                 1       1               0        0   \n",
       "2                1                 1       1               0        0   \n",
       "3                1                 1       1               1        1   \n",
       "4                2                 1       0               1        1   \n",
       "\n",
       "   dependents  tenure_mths  phone_service  multiple_lines  online_security  \\\n",
       "0           1            9              1               1                0   \n",
       "1           0            9              1               2                0   \n",
       "2           0            4              1               1                0   \n",
       "3           0           13              1               1                0   \n",
       "4           0            3              1               1                0   \n",
       "\n",
       "   ...  customer_id_9975-SKRNR  customer_id_9978-HYCIN  \\\n",
       "0  ...                       0                       0   \n",
       "1  ...                       0                       0   \n",
       "2  ...                       0                       0   \n",
       "3  ...                       0                       0   \n",
       "4  ...                       0                       0   \n",
       "\n",
       "   customer_id_9979-RGMZT  customer_id_9985-MWVIX  customer_id_9986-BONCE  \\\n",
       "0                       0                       0                       0   \n",
       "1                       0                       0                       0   \n",
       "2                       0                       0                       0   \n",
       "3                       0                       0                       0   \n",
       "4                       0                       0                       0   \n",
       "\n",
       "   customer_id_9987-LUTYD  customer_id_9992-RRAMN  customer_id_9992-UJOEL  \\\n",
       "0                       0                       0                       0   \n",
       "1                       0                       0                       0   \n",
       "2                       0                       0                       0   \n",
       "3                       0                       0                       0   \n",
       "4                       0                       0                       0   \n",
       "\n",
       "   customer_id_9993-LHIEB  customer_id_9995-HOTOH  \n",
       "0                       0                       0  \n",
       "1                       0                       0  \n",
       "2                       0                       0  \n",
       "3                       0                       0  \n",
       "4                       0                       0  \n",
       "\n",
       "[5 rows x 7054 columns]"
      ]
     },
     "execution_count": 29,
     "metadata": {},
     "output_type": "execute_result"
    }
   ],
   "source": [
    "dummy_df = pd.get_dummies(telco_df)\n",
    "dummy_df.head()"
   ]
  },
  {
   "cell_type": "markdown",
   "id": "fa177c5c",
   "metadata": {},
   "source": [
    "### Are there any dupes?"
   ]
  },
  {
   "cell_type": "code",
   "execution_count": 30,
   "id": "d18fff92",
   "metadata": {},
   "outputs": [
    {
     "data": {
      "text/plain": [
       "(7032, 7054)"
      ]
     },
     "execution_count": 30,
     "metadata": {},
     "output_type": "execute_result"
    }
   ],
   "source": [
    "dummy_df.shape "
   ]
  },
  {
   "cell_type": "code",
   "execution_count": 31,
   "id": "6423caff",
   "metadata": {},
   "outputs": [],
   "source": [
    "dummy_df.drop_duplicates(inplace=True)"
   ]
  },
  {
   "cell_type": "code",
   "execution_count": 32,
   "id": "dfc38b5a",
   "metadata": {},
   "outputs": [
    {
     "data": {
      "text/plain": [
       "(7032, 7054)"
      ]
     },
     "execution_count": 32,
     "metadata": {},
     "output_type": "execute_result"
    }
   ],
   "source": [
    "dummy_df.shape"
   ]
  },
  {
   "cell_type": "markdown",
   "id": "2e29654f",
   "metadata": {},
   "source": [
    "# Step 3. Explore"
   ]
  },
  {
   "cell_type": "markdown",
   "id": "b2d83a8c",
   "metadata": {},
   "source": [
    "## Split Data explore on Train only"
   ]
  },
  {
   "cell_type": "code",
   "execution_count": 33,
   "id": "feabe314",
   "metadata": {},
   "outputs": [
    {
     "name": "stdout",
     "output_type": "stream",
     "text": [
      "train -> (3937, 23)\n",
      "validate -> (1688, 23)\n",
      "test -> (1407, 23)\n"
     ]
    }
   ],
   "source": [
    "def train_validate_test_split(telco_churn):\n",
    "    '''\n",
    "    Takes in the telco_data and returns train, validate, and test dfs.\n",
    "    '''\n",
    "    train_validate, test = train_test_split(telco_df, test_size=.2, \n",
    "                                        random_state=123, \n",
    "                                        stratify=telco_df.churn)\n",
    "\n",
    "    train, validate = train_test_split(train_validate, test_size=.3, \n",
    "                                   random_state=123, \n",
    "                                   stratify=train_validate.churn)\n",
    "    return train, validate, test\n",
    "\n",
    "train, validate, test = train_validate_test_split(df)\n",
    "    \n",
    "print(f'train -> {train.shape}')\n",
    "print(f'validate -> {validate.shape}')\n",
    "print(f'test -> {test.shape}')"
   ]
  },
  {
   "cell_type": "markdown",
   "id": "53d55eb8",
   "metadata": {},
   "source": [
    "## Univariate Analysis\n",
    "### Plot distibution of individual predictors by churn"
   ]
  },
  {
   "cell_type": "code",
   "execution_count": 34,
   "id": "ec2c0306",
   "metadata": {},
   "outputs": [
    {
     "data": {
      "image/png": "[encoded data removed]",
      "text/plain": [
       "<Figure size 792x648 with 1 Axes>"
      ]
     },
     "metadata": {
      "needs_background": "light"
     },
     "output_type": "display_data"
    },
    {
     "data": {
      "image/png": "[encoded data removed]",
      "text/plain": [
       "<Figure size 792x648 with 1 Axes>"
      ]
     },
     "metadata": {
      "needs_background": "light"
     },
     "output_type": "display_data"
    },
    {
     "data": {
      "image/png": "[encoded data removed]",
      "text/plain": [
       "<Figure size 792x648 with 1 Axes>"
      ]
     },
     "metadata": {
      "needs_background": "light"
     },
     "output_type": "display_data"
    },
    {
     "data": {
      "image/png": "[encoded data removed]",
      "text/plain": [
       "<Figure size 792x648 with 1 Axes>"
      ]
     },
     "metadata": {
      "needs_background": "light"
     },
     "output_type": "display_data"
    },
    {
     "data": {
      "image/png": "[encoded data removed]",
      "text/plain": [
       "<Figure size 792x648 with 1 Axes>"
      ]
     },
     "metadata": {
      "needs_background": "light"
     },
     "output_type": "display_data"
    },
    {
     "data": {
      "image/png": "[encoded data removed]",
      "text/plain": [
       "<Figure size 792x648 with 1 Axes>"
      ]
     },
     "metadata": {
      "needs_background": "light"
     },
     "output_type": "display_data"
    },
    {
     "data": {
      "image/png": "[encoded data removed]",
      "text/plain": [
       "<Figure size 792x648 with 1 Axes>"
      ]
     },
     "metadata": {
      "needs_background": "light"
     },
     "output_type": "display_data"
    },
    {
     "data": {
      "image/png": "[encoded data removed]",
      "text/plain": [
       "<Figure size 792x648 with 1 Axes>"
      ]
     },
     "metadata": {
      "needs_background": "light"
     },
     "output_type": "display_data"
    },
    {
     "data": {
      "image/png": "[encoded data removed]",
      "text/plain": [
       "<Figure size 792x648 with 1 Axes>"
      ]
     },
     "metadata": {
      "needs_background": "light"
     },
     "output_type": "display_data"
    },
    {
     "data": {
      "image/png": "[encoded data removed]",
      "text/plain": [
       "<Figure size 792x648 with 1 Axes>"
      ]
     },
     "metadata": {
      "needs_background": "light"
     },
     "output_type": "display_data"
    },
    {
     "data": {
      "image/png": "[encoded data removed]",
      "text/plain": [
       "<Figure size 792x648 with 1 Axes>"
      ]
     },
     "metadata": {
      "needs_background": "light"
     },
     "output_type": "display_data"
    },
    {
     "data": {
      "image/png": "[encoded data removed]",
      "text/plain": [
       "<Figure size 792x648 with 1 Axes>"
      ]
     },
     "metadata": {
      "needs_background": "light"
     },
     "output_type": "display_data"
    },
    {
     "data": {
      "image/png": "[encoded data removed]",
      "text/plain": [
       "<Figure size 792x648 with 1 Axes>"
      ]
     },
     "metadata": {
      "needs_background": "light"
     },
     "output_type": "display_data"
    },
    {
     "data": {
      "image/png": "[encoded data removed]",
      "text/plain": [
       "<Figure size 792x648 with 1 Axes>"
      ]
     },
     "metadata": {
      "needs_background": "light"
     },
     "output_type": "display_data"
    },
    {
     "data": {
      "image/png": "[encoded data removed]",
      "text/plain": [
       "<Figure size 792x648 with 1 Axes>"
      ]
     },
     "metadata": {
      "needs_background": "light"
     },
     "output_type": "display_data"
    },
    {
     "data": {
      "image/png": "[encoded data removed]",
      "text/plain": [
       "<Figure size 792x648 with 1 Axes>"
      ]
     },
     "metadata": {
      "needs_background": "light"
     },
     "output_type": "display_data"
    },
    {
     "data": {
      "image/png": "[encoded data removed]",
      "text/plain": [
       "<Figure size 792x648 with 1 Axes>"
      ]
     },
     "metadata": {
      "needs_background": "light"
     },
     "output_type": "display_data"
    },
    {
     "data": {
      "image/png": "[encoded data removed]",
      "text/plain": [
       "<Figure size 792x648 with 1 Axes>"
      ]
     },
     "metadata": {
      "needs_background": "light"
     },
     "output_type": "display_data"
    },
    {
     "data": {
      "image/png": "[encoded data removed]",
      "text/plain": [
       "<Figure size 792x648 with 1 Axes>"
      ]
     },
     "metadata": {
      "needs_background": "light"
     },
     "output_type": "display_data"
    },
    {
     "data": {
      "image/png": "[encoded data removed]",
      "text/plain": [
       "<Figure size 792x648 with 1 Axes>"
      ]
     },
     "metadata": {
      "needs_background": "light"
     },
     "output_type": "display_data"
    }
   ],
   "source": [
    "for i, predictor in enumerate(train.drop(columns=['churn', 'total_charges', 'monthly_charges'])):\n",
    "    plt.figure(i)\n",
    "    sns.countplot(data=telco_df, x=predictor, hue='churn')"
   ]
  },
  {
   "cell_type": "markdown",
   "id": "028d24ae",
   "metadata": {},
   "source": [
    "### Does device protection affect different rates of churn?\n",
    "- $H_0$ : device protection does not affect churn\n",
    "- $H_a$ : device protection does affect a customer churning"
   ]
  },
  {
   "cell_type": "code",
   "execution_count": 35,
   "id": "b47fbaef",
   "metadata": {},
   "outputs": [
    {
     "name": "stdout",
     "output_type": "stream",
     "text": [
      "Reject the null hypothesis that churn and device protection are independent\n",
      "Sufficient evidence to move forward understanding that there is a relationship between contract type and churn\n",
      "\n",
      " [[1830 1061]\n",
      " [ 730  316]]\n",
      "\n",
      " [[1879.8475997 1011.1524003]\n",
      " [ 680.1524003  365.8475997]]\n",
      "\n",
      "p_value: 0.00018870079690668388\n",
      "chi^2 = 13.940380528973957\n"
     ]
    },
    {
     "data": {
      "text/plain": [
       "0.0002"
      ]
     },
     "execution_count": 35,
     "metadata": {},
     "output_type": "execute_result"
    }
   ],
   "source": [
    "alpha = 0.05\n",
    "null_hypothesis = \"churn and device protection are independent\"\n",
    "alternative_hypothesis = \"there is a relationship between contract type and churn\"\n",
    "\n",
    "# Setup a crosstab of observed churn to device protection\n",
    "observed = pd.crosstab(train.churn, train.device_protection)\n",
    "\n",
    "chi2, p, degf, expected = stats.chi2_contingency(observed)\n",
    "\n",
    "if p < alpha:\n",
    "    print(\"Reject the null hypothesis that\", null_hypothesis)\n",
    "    print(\"Sufficient evidence to move forward understanding that\", alternative_hypothesis)\n",
    "    print('\\n',observed.values)\n",
    "    print('\\n',expected)\n",
    "    print('\\np_value:',(p))\n",
    "    print(f'chi^2 = {chi2:}')\n",
    "else:\n",
    "    print(\"Fail to reject the null\")\n",
    "    print(\"Insufficient evidence to reject the null\")\n",
    "round(p,4)"
   ]
  },
  {
   "cell_type": "markdown",
   "id": "67db9377",
   "metadata": {},
   "source": [
    "### Does contract type affect different rates of churn?\n",
    "- $H_0$ : contract type does not affect churn\n",
    "- $H_a$ : contract type does affect a customer churning"
   ]
  },
  {
   "cell_type": "code",
   "execution_count": 36,
   "id": "deb4ab4a",
   "metadata": {},
   "outputs": [
    {
     "name": "stdout",
     "output_type": "stream",
     "text": [
      "Reject the null hypothesis that churn and contract type are independent\n",
      "Sufficient evidence to move forward understanding that there is a relationship between contract type and churn\n",
      "\n",
      "Rounded p_value: 0.0\n"
     ]
    },
    {
     "data": {
      "text/plain": [
       "4.693667062132269e-145"
      ]
     },
     "execution_count": 36,
     "metadata": {},
     "output_type": "execute_result"
    }
   ],
   "source": [
    "alpha = 0.05\n",
    "null_hypothesis = \"churn and contract type are independent\"\n",
    "alternative_hypothesis = \"there is a relationship between contract type and churn\"\n",
    "\n",
    "# Setup a crosstab of observed churn to contract_type\n",
    "observed = pd.crosstab(train.churn, train.contract_type)\n",
    "\n",
    "chi2, p, degf, expected = stats.chi2_contingency(observed)\n",
    "\n",
    "if p < alpha:\n",
    "    print(\"Reject the null hypothesis that\", null_hypothesis)\n",
    "    print(\"Sufficient evidence to move forward understanding that\", alternative_hypothesis)\n",
    "    print('\\nRounded p_value:',round(p,2))\n",
    "else:\n",
    "    print(\"Fail to reject the null\")\n",
    "    print(\"Insufficient evidence to reject the null\")\n",
    "p"
   ]
  },
  {
   "cell_type": "markdown",
   "id": "df507d80",
   "metadata": {},
   "source": [
    "### Does tech support affect different rates of churn?\n",
    "- $H_0$ : tech support does not affect churn\n",
    "- $H_a$ : tech support does affect a customer churning"
   ]
  },
  {
   "cell_type": "code",
   "execution_count": 37,
   "id": "fcaf7108",
   "metadata": {},
   "outputs": [
    {
     "name": "stdout",
     "output_type": "stream",
     "text": [
      "Reject the null hypothesis that churn and tech support are independent\n",
      "Sufficient evidence to move forward understanding that there is a relationship between tech support and churn\n",
      "\n",
      "Rounded p_value: 0.0\n"
     ]
    },
    {
     "data": {
      "text/plain": [
       "2.376480997030356e-23"
      ]
     },
     "execution_count": 37,
     "metadata": {},
     "output_type": "execute_result"
    }
   ],
   "source": [
    "alpha = 0.05\n",
    "null_hypothesis = \"churn and tech support are independent\"\n",
    "alternative_hypothesis = \"there is a relationship between tech support and churn\"\n",
    "\n",
    "# Setup a crosstab of observed churn to tech_support\n",
    "observed = pd.crosstab(train.churn, train.tech_support)\n",
    "\n",
    "chi2, p, degf, expected = stats.chi2_contingency(observed)\n",
    "\n",
    "if p < alpha:\n",
    "    print(\"Reject the null hypothesis that\", null_hypothesis)\n",
    "    print(\"Sufficient evidence to move forward understanding that\", alternative_hypothesis)\n",
    "    print('\\nRounded p_value:',round(p,2))\n",
    "else:\n",
    "    print(\"Fail to reject the null\")\n",
    "    print(\"Insufficient evidence to reject the null\")\n",
    "p"
   ]
  },
  {
   "cell_type": "markdown",
   "id": "935850bd",
   "metadata": {},
   "source": [
    "### Does paperless billing affect different rates of churn?\n",
    "- $H_0$ : paperless billing does not affect churn\n",
    "- $H_a$ : paperless billing does affect a customer churning"
   ]
  },
  {
   "cell_type": "code",
   "execution_count": 38,
   "id": "bedb260b",
   "metadata": {},
   "outputs": [
    {
     "name": "stdout",
     "output_type": "stream",
     "text": [
      "Reject the null hypothesis that churn and paperless billing are independent\n",
      "Sufficient evidence to move forward understanding that there is a relationship between paperless billing and churn\n",
      "\n",
      "Rounded p_value: 0.0\n"
     ]
    },
    {
     "data": {
      "text/plain": [
       "1.3393723943150956e-32"
      ]
     },
     "execution_count": 38,
     "metadata": {},
     "output_type": "execute_result"
    }
   ],
   "source": [
    "alpha = 0.05\n",
    "null_hypothesis = \"churn and paperless billing are independent\"\n",
    "alternative_hypothesis = \"there is a relationship between paperless billing and churn\"\n",
    "\n",
    "# Setup a crosstab of observed churn to paperless_billing\n",
    "observed = pd.crosstab(train.churn, train.paperless_billing)\n",
    "\n",
    "chi2, p, degf, expected = stats.chi2_contingency(observed)\n",
    "\n",
    "if p < alpha:\n",
    "    print(\"Reject the null hypothesis that\", null_hypothesis)\n",
    "    print(\"Sufficient evidence to move forward understanding that\", alternative_hypothesis)\n",
    "    print('\\nRounded p_value:',round(p,2))\n",
    "else:\n",
    "    print(\"Fail to reject the null\")\n",
    "    print(\"Insufficient evidence to reject the null\")\n",
    "p"
   ]
  },
  {
   "cell_type": "markdown",
   "id": "e54000c4",
   "metadata": {},
   "source": [
    "### Does payment type affect different rates of churn?\n",
    "- $H_0$ : paying a specific way does not affect churn\n",
    "- $H_a$ : payment type does affect a customer churning"
   ]
  },
  {
   "cell_type": "code",
   "execution_count": 39,
   "id": "f1fe3a04",
   "metadata": {},
   "outputs": [
    {
     "name": "stdout",
     "output_type": "stream",
     "text": [
      "Reject the null hypothesis that churn and payment type are independent\n",
      "Sufficient evidence to move forward understanding that there is a relationship between payment type and churn\n",
      "\n",
      "Rounded p_value: 0.0\n"
     ]
    },
    {
     "data": {
      "text/plain": [
       "6.846414201167442e-36"
      ]
     },
     "execution_count": 39,
     "metadata": {},
     "output_type": "execute_result"
    }
   ],
   "source": [
    "alpha = 0.05\n",
    "null_hypothesis = \"churn and payment type are independent\"\n",
    "alternative_hypothesis = \"there is a relationship between payment type and churn\"\n",
    "\n",
    "# Setup a crosstab of observed churn to automatic_payment\n",
    "observed = pd.crosstab(train.churn, train.automatic_payment)\n",
    "\n",
    "chi2, p, degf, expected = stats.chi2_contingency(observed)\n",
    "\n",
    "if p < alpha:\n",
    "    print(\"Reject the null hypothesis that\", null_hypothesis)\n",
    "    print(\"Sufficient evidence to move forward understanding that\", alternative_hypothesis)\n",
    "    print('\\nRounded p_value:',round(p,2))\n",
    "else:\n",
    "    print(\"Fail to reject the null\")\n",
    "    print(\"Insufficient evidence to reject the null\")\n",
    "p"
   ]
  },
  {
   "cell_type": "markdown",
   "id": "4687b13a",
   "metadata": {},
   "source": [
    "### Does online security affect different rates of churn?\n",
    "- $H_0$ : having online security does not affect churn\n",
    "- $H_a$ : online security does affect a customer churning"
   ]
  },
  {
   "cell_type": "code",
   "execution_count": 40,
   "id": "126293e6",
   "metadata": {},
   "outputs": [
    {
     "name": "stdout",
     "output_type": "stream",
     "text": [
      "Reject the null hypothesis that churn and onilne security are independent\n",
      "Sufficient evidence to move forward understanding that there is a relationship between online security and churn\n",
      "\n",
      "Rounded p_value: 0.0\n"
     ]
    },
    {
     "data": {
      "text/plain": [
       "1.2131172913764837e-29"
      ]
     },
     "execution_count": 40,
     "metadata": {},
     "output_type": "execute_result"
    }
   ],
   "source": [
    "alpha = 0.05\n",
    "null_hypothesis = \"churn and onilne security are independent\"\n",
    "alternative_hypothesis = \"there is a relationship between online security and churn\"\n",
    "\n",
    "# Setup a crosstab of observed churn to online_security\n",
    "observed = pd.crosstab(train.churn, train.online_security)\n",
    "\n",
    "chi2, p, degf, expected = stats.chi2_contingency(observed)\n",
    "\n",
    "if p < alpha:\n",
    "    print(\"Reject the null hypothesis that\", null_hypothesis)\n",
    "    print(\"Sufficient evidence to move forward understanding that\", alternative_hypothesis)\n",
    "    print('\\nRounded p_value:',round(p,2))\n",
    "else:\n",
    "    print(\"Fail to reject the null\")\n",
    "    print(\"Insufficient evidence to reject the null\")\n",
    "p"
   ]
  },
  {
   "cell_type": "markdown",
   "id": "117847e0",
   "metadata": {},
   "source": [
    "### Does being a senor citizen affect different rates of churn?\n",
    "- $H_0$ : Being a senior citizen does not affect churn\n",
    "- $H_a$ : Being a senior citizen does affect a customer churning"
   ]
  },
  {
   "cell_type": "code",
   "execution_count": 41,
   "id": "308435c5",
   "metadata": {},
   "outputs": [
    {
     "name": "stdout",
     "output_type": "stream",
     "text": [
      "Reject the null hypothesis that churn and senior citizens are independent\n",
      "Sufficient evidence to move forward understanding that there is a relationship between senior citizen and churn\n",
      "\n",
      "Rounded p_value: 0.0\n"
     ]
    },
    {
     "data": {
      "text/plain": [
       "1.7561315684822571e-23"
      ]
     },
     "execution_count": 41,
     "metadata": {},
     "output_type": "execute_result"
    }
   ],
   "source": [
    "alpha = 0.05\n",
    "null_hypothesis = \"churn and senior citizens are independent\"\n",
    "alternative_hypothesis = \"there is a relationship between senior citizen and churn\"\n",
    "\n",
    "# Setup a crosstab of observed churn to senior_citizen\n",
    "observed = pd.crosstab(train.churn, train.senior_citizen)\n",
    "\n",
    "chi2, p, degf, expected = stats.chi2_contingency(observed)\n",
    "\n",
    "if p < alpha:\n",
    "    print(\"Reject the null hypothesis that\", null_hypothesis)\n",
    "    print(\"Sufficient evidence to move forward understanding that\", alternative_hypothesis)\n",
    "    print('\\nRounded p_value:',round(p,2))\n",
    "else:\n",
    "    print(\"Fail to reject the null\")\n",
    "    print(\"Insufficient evidence to reject the null\")\n",
    "p"
   ]
  },
  {
   "cell_type": "markdown",
   "id": "062bf45a",
   "metadata": {},
   "source": [
    "### Note: online security, tech support, and device protection are all related to whether or not a customer has internet service"
   ]
  },
  {
   "cell_type": "markdown",
   "id": "1f7d53f1",
   "metadata": {},
   "source": [
    "# Other observations made"
   ]
  },
  {
   "cell_type": "markdown",
   "id": "465a9762",
   "metadata": {},
   "source": [
    "### Using a kernel density estimate (KDE) plot shows churn is high when monthly charges are high."
   ]
  },
  {
   "cell_type": "code",
   "execution_count": 80,
   "id": "33253e7d",
   "metadata": {},
   "outputs": [
    {
     "data": {
      "text/plain": [
       "<function prepare.percentage_stacked_plot(columns_to_plot, title, telco_df)>"
      ]
     },
     "execution_count": 80,
     "metadata": {},
     "output_type": "execute_result"
    },
    {
     "data": {
      "image/png": "[encoded data removed]",
      "text/plain": [
       "<Figure size 864x720 with 3 Axes>"
      ]
     },
     "metadata": {
      "needs_background": "light"
     },
     "output_type": "display_data"
    }
   ],
   "source": [
    "# Attributes of a customer's account\n",
    "account_columns = ['contract_type', 'automatic_payment', 'internet_service_type']\n",
    "\n",
    "# stacked plot of these attributes\n",
    "percentage_stacked_plot(account_columns, 'Customer Attributes by Contract Type and Auto Pay', telco_df)\n",
    "\n",
    "# contract type 0 is month to month, 1 is one-year, 2 is two-year\n",
    "# other 0 and 1 is no and yes"
   ]
  },
  {
   "cell_type": "code",
   "execution_count": 43,
   "id": "8a9407d4",
   "metadata": {},
   "outputs": [
    {
     "data": {
      "text/plain": [
       "<AxesSubplot:xlabel='tenure_mths', ylabel='Density'>"
      ]
     },
     "execution_count": 43,
     "metadata": {},
     "output_type": "execute_result"
    },
    {
     "data": {
      "image/png": "[encoded data removed]",
      "text/plain": [
       "<Figure size 792x648 with 1 Axes>"
      ]
     },
     "metadata": {
      "needs_background": "light"
     },
     "output_type": "display_data"
    }
   ],
   "source": [
    "sns.distplot(telco_df.tenure_mths)"
   ]
  },
  {
   "cell_type": "code",
   "execution_count": 44,
   "id": "92863de0",
   "metadata": {},
   "outputs": [
    {
     "data": {
      "text/plain": [
       "<AxesSubplot:xlabel='monthly_charges', ylabel='Density'>"
      ]
     },
     "execution_count": 44,
     "metadata": {},
     "output_type": "execute_result"
    },
    {
     "data": {
      "image/png": "[encoded data removed]",
      "text/plain": [
       "<Figure size 792x648 with 1 Axes>"
      ]
     },
     "metadata": {
      "needs_background": "light"
     },
     "output_type": "display_data"
    }
   ],
   "source": [
    "sns.distplot(telco_df.monthly_charges)"
   ]
  },
  {
   "cell_type": "code",
   "execution_count": 45,
   "id": "e6b04d8b",
   "metadata": {},
   "outputs": [
    {
     "data": {
      "text/plain": [
       "Text(0.5, 1.0, 'Monthly charges by churn')"
      ]
     },
     "execution_count": 45,
     "metadata": {},
     "output_type": "execute_result"
    },
    {
     "data": {
      "image/png": "[encoded data removed]",
      "text/plain": [
       "<Figure size 792x648 with 1 Axes>"
      ]
     },
     "metadata": {
      "needs_background": "light"
     },
     "output_type": "display_data"
    }
   ],
   "source": [
    "Mth = sns.kdeplot(train.monthly_charges[(train[\"churn\"] == 0) ],\n",
    "                color=\"#0072BD\", shade = True)\n",
    "Mth = sns.kdeplot(train.monthly_charges[(train[\"churn\"] == 1) ],\n",
    "                ax =Mth, color=\"pink\", shade= True)\n",
    "Mth.legend([\"No Churn\",\"Churn\"])\n",
    "Mth.set_ylabel('Density')\n",
    "Mth.set_xlabel('Monthly Charges')\n",
    "Mth.set_title('Monthly charges by churn')"
   ]
  },
  {
   "cell_type": "markdown",
   "id": "5da3850a",
   "metadata": {},
   "source": [
    "### Do monthly charges affect different rates of churn?\n",
    "- $H_0$ : Monthly charges does not affect churn\n",
    "- $H_a$ : Monthly charges does affect a customer churning"
   ]
  },
  {
   "cell_type": "code",
   "execution_count": 46,
   "id": "7d18fff3",
   "metadata": {},
   "outputs": [
    {
     "name": "stdout",
     "output_type": "stream",
     "text": [
      "Reject the null hypothesis that churn and monthly charges are independent\n",
      "Sufficient evidence to move forward understanding that there is a relationship between monthly charges and churn\n",
      "\n",
      "Rounded p_value: 0.0\n"
     ]
    },
    {
     "data": {
      "text/plain": [
       "1.7696616579595508e-06"
      ]
     },
     "execution_count": 46,
     "metadata": {},
     "output_type": "execute_result"
    }
   ],
   "source": [
    "alpha = 0.05\n",
    "null_hypothesis = \"churn and monthly charges are independent\"\n",
    "alternative_hypothesis = \"there is a relationship between monthly charges and churn\"\n",
    "\n",
    "# Setup a crosstab of observed churn and monthly_charges\n",
    "observed = pd.crosstab(train.churn, train.monthly_charges)\n",
    "\n",
    "chi2, p, degf, expected = stats.chi2_contingency(observed)\n",
    "\n",
    "if p < alpha:\n",
    "    print(\"Reject the null hypothesis that\", null_hypothesis)\n",
    "    print(\"Sufficient evidence to move forward understanding that\", alternative_hypothesis)\n",
    "    print('\\nRounded p_value:',round(p,2))\n",
    "else:\n",
    "    print(\"Fail to reject the null\")\n",
    "    print(\"Insufficient evidence to reject the null\")\n",
    "p"
   ]
  },
  {
   "cell_type": "markdown",
   "id": "243600d7",
   "metadata": {},
   "source": [
    "### Churn is higher with lower total charges but this is due to a smaller tenure period."
   ]
  },
  {
   "cell_type": "code",
   "execution_count": 47,
   "id": "ea68721c",
   "metadata": {},
   "outputs": [
    {
     "data": {
      "text/plain": [
       "Text(0.5, 1.0, 'Total charges by churn')"
      ]
     },
     "execution_count": 47,
     "metadata": {},
     "output_type": "execute_result"
    },
    {
     "data": {
      "image/png": "[encoded data removed]",
      "text/plain": [
       "<Figure size 792x648 with 1 Axes>"
      ]
     },
     "metadata": {
      "needs_background": "light"
     },
     "output_type": "display_data"
    }
   ],
   "source": [
    "Tot = sns.kdeplot(train.total_charges[(train[\"churn\"] == 0) ],\n",
    "                color=\"#0072BD\", shade = True)\n",
    "Tot = sns.kdeplot(train.total_charges[(train[\"churn\"] == 1) ],\n",
    "                ax =Tot, color=\"pink\", shade= True)\n",
    "Tot.legend([\"No Churn\",\"Churn\"],loc='upper right')\n",
    "Tot.set_ylabel('Density')\n",
    "Tot.set_xlabel('Total Charges')\n",
    "Tot.set_title('Total charges by churn')"
   ]
  },
  {
   "cell_type": "markdown",
   "id": "ba80cd9c",
   "metadata": {},
   "source": [
    "### Here we see the correlation closest to churn"
   ]
  },
  {
   "cell_type": "code",
   "execution_count": 48,
   "id": "156ea29a",
   "metadata": {
    "scrolled": false
   },
   "outputs": [
    {
     "data": {
      "text/plain": [
       "<AxesSubplot:>"
      ]
     },
     "execution_count": 48,
     "metadata": {},
     "output_type": "execute_result"
    },
    {
     "data": {
      "image/png": "[encoded data removed]",
      "text/plain": [
       "<Figure size 1440x720 with 1 Axes>"
      ]
     },
     "metadata": {
      "needs_background": "light"
     },
     "output_type": "display_data"
    }
   ],
   "source": [
    "plt.figure(figsize=(20,10))\n",
    "train.corr()['churn'].sort_values(ascending = False).plot(kind='line')"
   ]
  },
  {
   "cell_type": "markdown",
   "id": "37258f75",
   "metadata": {},
   "source": [
    "# Key takeaways\n",
    "\n",
    "- Customers likely to churn fit the following:\n",
    "\n",
    "    1. Have no partners.\n",
    "    \n",
    "    2. Pay by electronic check.\n",
    "    \n",
    "    3. In a month-to-month contract.\n",
    "    \n",
    "    4. Do not have online security, tech support, and device protection one their internet service plan."
   ]
  },
  {
   "cell_type": "markdown",
   "id": "630d6d92",
   "metadata": {},
   "source": [
    "# Step 4. Modeling"
   ]
  },
  {
   "cell_type": "code",
   "execution_count": 49,
   "id": "1ae91d48",
   "metadata": {},
   "outputs": [],
   "source": [
    "# predictor/independent features split into train, test, validate\n",
    "X_train = train.drop(columns = ['churn'],axis=1)\n",
    "X_validate = validate.drop(columns = ['churn'],axis=1)\n",
    "X_test = test.drop(columns = ['churn'],axis=1)\n",
    "\n",
    "# target variables split into train, test, validate\n",
    "y_train = train.churn\n",
    "y_validate = validate.churn\n",
    "y_test = test.churn"
   ]
  },
  {
   "cell_type": "code",
   "execution_count": 50,
   "id": "96202ea1",
   "metadata": {},
   "outputs": [
    {
     "data": {
      "text/plain": [
       "0    0.734315\n",
       "1    0.265685\n",
       "Name: churn, dtype: float64"
      ]
     },
     "execution_count": 50,
     "metadata": {},
     "output_type": "execute_result"
    }
   ],
   "source": [
    "y_train.value_counts(normalize=True)"
   ]
  },
  {
   "cell_type": "markdown",
   "id": "baa774e0",
   "metadata": {},
   "source": [
    "### Majority of customers (73.4%) do not churn - baseline prediction"
   ]
  },
  {
   "cell_type": "code",
   "execution_count": 51,
   "id": "1a42fb6a",
   "metadata": {},
   "outputs": [
    {
     "data": {
      "text/plain": [
       "0    2891\n",
       "1    1046\n",
       "Name: churn, dtype: int64"
      ]
     },
     "execution_count": 51,
     "metadata": {},
     "output_type": "execute_result"
    }
   ],
   "source": [
    "y_train.value_counts()"
   ]
  },
  {
   "cell_type": "code",
   "execution_count": 52,
   "id": "c0d4f4ef",
   "metadata": {},
   "outputs": [
    {
     "data": {
      "text/plain": [
       "0    0\n",
       "dtype: int64"
      ]
     },
     "execution_count": 52,
     "metadata": {},
     "output_type": "execute_result"
    }
   ],
   "source": [
    "baseline = train.churn.mode()\n",
    "baseline"
   ]
  },
  {
   "cell_type": "code",
   "execution_count": 53,
   "id": "a80e223e",
   "metadata": {},
   "outputs": [
    {
     "data": {
      "text/html": [
       "<div>\n",
       "<style scoped>\n",
       "    .dataframe tbody tr th:only-of-type {\n",
       "        vertical-align: middle;\n",
       "    }\n",
       "\n",
       "    .dataframe tbody tr th {\n",
       "        vertical-align: top;\n",
       "    }\n",
       "\n",
       "    .dataframe thead th {\n",
       "        text-align: right;\n",
       "    }\n",
       "</style>\n",
       "<table border=\"1\" class=\"dataframe\">\n",
       "  <thead>\n",
       "    <tr style=\"text-align: right;\">\n",
       "      <th></th>\n",
       "      <th>actual</th>\n",
       "      <th>baseline</th>\n",
       "    </tr>\n",
       "  </thead>\n",
       "  <tbody>\n",
       "    <tr>\n",
       "      <th>5919</th>\n",
       "      <td>0</td>\n",
       "      <td>0</td>\n",
       "    </tr>\n",
       "    <tr>\n",
       "      <th>1915</th>\n",
       "      <td>0</td>\n",
       "      <td>0</td>\n",
       "    </tr>\n",
       "    <tr>\n",
       "      <th>5054</th>\n",
       "      <td>0</td>\n",
       "      <td>0</td>\n",
       "    </tr>\n",
       "    <tr>\n",
       "      <th>2355</th>\n",
       "      <td>0</td>\n",
       "      <td>0</td>\n",
       "    </tr>\n",
       "    <tr>\n",
       "      <th>6279</th>\n",
       "      <td>0</td>\n",
       "      <td>0</td>\n",
       "    </tr>\n",
       "    <tr>\n",
       "      <th>...</th>\n",
       "      <td>...</td>\n",
       "      <td>...</td>\n",
       "    </tr>\n",
       "    <tr>\n",
       "      <th>394</th>\n",
       "      <td>0</td>\n",
       "      <td>0</td>\n",
       "    </tr>\n",
       "    <tr>\n",
       "      <th>3763</th>\n",
       "      <td>1</td>\n",
       "      <td>0</td>\n",
       "    </tr>\n",
       "    <tr>\n",
       "      <th>3444</th>\n",
       "      <td>0</td>\n",
       "      <td>0</td>\n",
       "    </tr>\n",
       "    <tr>\n",
       "      <th>1002</th>\n",
       "      <td>0</td>\n",
       "      <td>0</td>\n",
       "    </tr>\n",
       "    <tr>\n",
       "      <th>4192</th>\n",
       "      <td>0</td>\n",
       "      <td>0</td>\n",
       "    </tr>\n",
       "  </tbody>\n",
       "</table>\n",
       "<p>3937 rows × 2 columns</p>\n",
       "</div>"
      ],
      "text/plain": [
       "      actual  baseline\n",
       "5919       0         0\n",
       "1915       0         0\n",
       "5054       0         0\n",
       "2355       0         0\n",
       "6279       0         0\n",
       "...      ...       ...\n",
       "394        0         0\n",
       "3763       1         0\n",
       "3444       0         0\n",
       "1002       0         0\n",
       "4192       0         0\n",
       "\n",
       "[3937 rows x 2 columns]"
      ]
     },
     "execution_count": 53,
     "metadata": {},
     "output_type": "execute_result"
    }
   ],
   "source": [
    "# Creating data frame of Actual churn\n",
    "df = pd.DataFrame(y_train)\n",
    "\n",
    "# Adding baseline as prediction, not churned for every observation\n",
    "df['baseline'] = 0\n",
    "\n",
    "# Renaming the columns\n",
    "df.columns = ['actual','baseline']\n",
    "\n",
    "# checking the df\n",
    "df"
   ]
  },
  {
   "cell_type": "markdown",
   "id": "de6e8bb0",
   "metadata": {},
   "source": [
    "### Create a cross tab of our baseline versus actual to calculate accuracy"
   ]
  },
  {
   "cell_type": "code",
   "execution_count": 54,
   "id": "d6a8d3a9",
   "metadata": {},
   "outputs": [
    {
     "data": {
      "text/html": [
       "<div>\n",
       "<style scoped>\n",
       "    .dataframe tbody tr th:only-of-type {\n",
       "        vertical-align: middle;\n",
       "    }\n",
       "\n",
       "    .dataframe tbody tr th {\n",
       "        vertical-align: top;\n",
       "    }\n",
       "\n",
       "    .dataframe thead th {\n",
       "        text-align: right;\n",
       "    }\n",
       "</style>\n",
       "<table border=\"1\" class=\"dataframe\">\n",
       "  <thead>\n",
       "    <tr style=\"text-align: right;\">\n",
       "      <th>baseline</th>\n",
       "      <th>0</th>\n",
       "    </tr>\n",
       "    <tr>\n",
       "      <th>actual</th>\n",
       "      <th></th>\n",
       "    </tr>\n",
       "  </thead>\n",
       "  <tbody>\n",
       "    <tr>\n",
       "      <th>0</th>\n",
       "      <td>2891</td>\n",
       "    </tr>\n",
       "    <tr>\n",
       "      <th>1</th>\n",
       "      <td>1046</td>\n",
       "    </tr>\n",
       "  </tbody>\n",
       "</table>\n",
       "</div>"
      ],
      "text/plain": [
       "baseline     0\n",
       "actual        \n",
       "0         2891\n",
       "1         1046"
      ]
     },
     "execution_count": 54,
     "metadata": {},
     "output_type": "execute_result"
    }
   ],
   "source": [
    "pd.crosstab(df.actual, df.baseline)"
   ]
  },
  {
   "cell_type": "code",
   "execution_count": 55,
   "id": "339e6042",
   "metadata": {},
   "outputs": [
    {
     "data": {
      "text/html": [
       "<div>\n",
       "<style scoped>\n",
       "    .dataframe tbody tr th:only-of-type {\n",
       "        vertical-align: middle;\n",
       "    }\n",
       "\n",
       "    .dataframe tbody tr th {\n",
       "        vertical-align: top;\n",
       "    }\n",
       "\n",
       "    .dataframe thead th {\n",
       "        text-align: right;\n",
       "    }\n",
       "</style>\n",
       "<table border=\"1\" class=\"dataframe\">\n",
       "  <thead>\n",
       "    <tr style=\"text-align: right;\">\n",
       "      <th>actual</th>\n",
       "      <th>0</th>\n",
       "      <th>1</th>\n",
       "    </tr>\n",
       "    <tr>\n",
       "      <th>baseline</th>\n",
       "      <th></th>\n",
       "      <th></th>\n",
       "    </tr>\n",
       "  </thead>\n",
       "  <tbody>\n",
       "    <tr>\n",
       "      <th>0</th>\n",
       "      <td>2891</td>\n",
       "      <td>1046</td>\n",
       "    </tr>\n",
       "  </tbody>\n",
       "</table>\n",
       "</div>"
      ],
      "text/plain": [
       "actual       0     1\n",
       "baseline            \n",
       "0         2891  1046"
      ]
     },
     "execution_count": 55,
     "metadata": {},
     "output_type": "execute_result"
    }
   ],
   "source": [
    "\n",
    "pd.crosstab(df['baseline'], df['actual'])"
   ]
  },
  {
   "cell_type": "code",
   "execution_count": 56,
   "id": "e0409408",
   "metadata": {},
   "outputs": [
    {
     "data": {
      "text/plain": [
       "array([[   0, 1046],\n",
       "       [   0, 2891]])"
      ]
     },
     "execution_count": 56,
     "metadata": {},
     "output_type": "execute_result"
    }
   ],
   "source": [
    "confusion_matrix(df.actual, df.baseline,\n",
    "                labels = (1, 0))"
   ]
  },
  {
   "cell_type": "code",
   "execution_count": 57,
   "id": "9c4e5d6d",
   "metadata": {},
   "outputs": [
    {
     "name": "stdout",
     "output_type": "stream",
     "text": [
      "The baseline model is 73.43154686309373 %.\n"
     ]
    }
   ],
   "source": [
    "# calculate accuracy\n",
    "# positive will not be churned\n",
    "# (TP + TN) / (TP + TN + FP + FN)\n",
    "\n",
    "#predicting not churned and the customer has not churned\n",
    "TP = 2891\n",
    "\n",
    "#predicting not churned and the customer has churned\n",
    "FP = 1046\n",
    "\n",
    "#predicting the customer has churned and they have churned\n",
    "TN = 0\n",
    "\n",
    "#predicting the customer has churned and they have not churned\n",
    "FN = 0\n",
    "\n",
    "base_accuracy = (TP + TN) / (TP + TN + FP + FN)\n",
    "\n",
    "print(\"The baseline model is\",(base_accuracy * 100),\"%.\")"
   ]
  },
  {
   "cell_type": "code",
   "execution_count": 58,
   "id": "f8380148",
   "metadata": {
    "scrolled": true
   },
   "outputs": [
    {
     "name": "stdout",
     "output_type": "stream",
     "text": [
      "   model accuracy: 73.43%\n"
     ]
    }
   ],
   "source": [
    "model_accuracy = (df.baseline == df.actual).mean()\n",
    "\n",
    "print(f'   model accuracy: {model_accuracy:.2%}')"
   ]
  },
  {
   "cell_type": "code",
   "execution_count": 59,
   "id": "168583e9",
   "metadata": {},
   "outputs": [
    {
     "data": {
      "text/plain": [
       "0    2891\n",
       "1    1046\n",
       "Name: actual, dtype: int64"
      ]
     },
     "execution_count": 59,
     "metadata": {},
     "output_type": "execute_result"
    }
   ],
   "source": [
    "df.actual.value_counts()"
   ]
  },
  {
   "cell_type": "code",
   "execution_count": 60,
   "id": "82ccfd18",
   "metadata": {},
   "outputs": [],
   "source": [
    "df['baseline_prediction'] = '0'"
   ]
  },
  {
   "cell_type": "markdown",
   "id": "949ddc18",
   "metadata": {},
   "source": [
    "# Logistic Regression Model"
   ]
  },
  {
   "cell_type": "code",
   "execution_count": 61,
   "id": "f0ce67d3",
   "metadata": {},
   "outputs": [],
   "source": [
    "#features and weights\n",
    "X_train = X_train[['online_security','tech_support','device_protection','monthly_charges']]\n",
    "y_train = train.churn"
   ]
  },
  {
   "cell_type": "code",
   "execution_count": 62,
   "id": "00c28f48",
   "metadata": {},
   "outputs": [
    {
     "name": "stdout",
     "output_type": "stream",
     "text": [
      "Coefficient: \n",
      " [[-1.1615111  -1.0383524  -0.754254    0.03103148]]\n",
      "\n",
      "Intercept: \n",
      " [-2.3318484]\n"
     ]
    }
   ],
   "source": [
    "# Created a simple Logistic Regression model to start.\n",
    "logit = LogisticRegression(random_state=123)\n",
    "logit.fit(X_train, y_train)\n",
    "print('Coefficient: \\n', logit.coef_)\n",
    "print('\\nIntercept: \\n', logit.intercept_)"
   ]
  },
  {
   "cell_type": "code",
   "execution_count": 63,
   "id": "2bca8ffb",
   "metadata": {},
   "outputs": [],
   "source": [
    "y_pred = logit.predict(X_train)\n",
    "y_pred_proba = logit.predict_proba(X_train)"
   ]
  },
  {
   "cell_type": "code",
   "execution_count": 64,
   "id": "ae4d28ed",
   "metadata": {},
   "outputs": [
    {
     "name": "stdout",
     "output_type": "stream",
     "text": [
      "\n",
      "The confusion matrix:\n",
      " [[2651  240]\n",
      " [ 722  324]]\n",
      "\n",
      "Classification report:\n",
      "               precision    recall  f1-score   support\n",
      "\n",
      "           0       0.79      0.92      0.85      2891\n",
      "           1       0.57      0.31      0.40      1046\n",
      "\n",
      "    accuracy                           0.76      3937\n",
      "   macro avg       0.68      0.61      0.62      3937\n",
      "weighted avg       0.73      0.76      0.73      3937\n",
      "\n",
      "\n",
      "Accuracy of Logistic Regression classifier on training set: 0.7556515113030227\n"
     ]
    }
   ],
   "source": [
    "print('\\nThe confusion matrix:\\n',confusion_matrix(y_train, y_pred))\n",
    "print('\\nClassification report:\\n',classification_report(y_train, y_pred))\n",
    "print('\\nAccuracy of Logistic Regression classifier on training set:',logit.score(X_train, y_train))"
   ]
  },
  {
   "cell_type": "markdown",
   "id": "a4e3bee1",
   "metadata": {},
   "source": [
    "# Logistic Regression Model Validation"
   ]
  },
  {
   "cell_type": "code",
   "execution_count": 65,
   "id": "67cabc36",
   "metadata": {},
   "outputs": [],
   "source": [
    "X_validate = X_validate[['online_security','tech_support','device_protection','monthly_charges']]\n",
    "y_validate = validate.churn"
   ]
  },
  {
   "cell_type": "code",
   "execution_count": 66,
   "id": "c86f14cb",
   "metadata": {},
   "outputs": [
    {
     "name": "stdout",
     "output_type": "stream",
     "text": [
      "[[1120  119]\n",
      " [ 311  138]]\n",
      "              precision    recall  f1-score   support\n",
      "\n",
      "           0       0.78      0.90      0.84      1239\n",
      "           1       0.54      0.31      0.39       449\n",
      "\n",
      "    accuracy                           0.75      1688\n",
      "   macro avg       0.66      0.61      0.61      1688\n",
      "weighted avg       0.72      0.75      0.72      1688\n",
      "\n",
      "\n",
      "Accuracy of Logistic Regression classifier on validate set: 0.745260663507109\n"
     ]
    }
   ],
   "source": [
    "y_pred = logit.predict(X_validate)\n",
    "\n",
    "print(confusion_matrix(y_validate, y_pred))\n",
    "print(classification_report(y_validate, y_pred))\n",
    "print('\\nAccuracy of Logistic Regression classifier on validate set:',logit.score(X_validate, y_validate))"
   ]
  },
  {
   "cell_type": "markdown",
   "id": "829bf1fc",
   "metadata": {},
   "source": [
    "# Random Forest Model"
   ]
  },
  {
   "cell_type": "code",
   "execution_count": 67,
   "id": "4ccc64dd",
   "metadata": {},
   "outputs": [],
   "source": [
    "X_train_ran = X_train[['online_security','tech_support','device_protection','monthly_charges']]\n",
    "y_train_ran = train.churn"
   ]
  },
  {
   "cell_type": "code",
   "execution_count": 68,
   "id": "d28b101d",
   "metadata": {},
   "outputs": [],
   "source": [
    "rf = RandomForestClassifier(max_depth = 5)\n",
    "\n",
    "rf.fit(X_train_ran, y_train_ran)\n",
    "\n",
    "y_pred_ran = rf.predict(X_train_ran)\n",
    "\n",
    "y_pred_proba_ran = rf.predict_proba(X_train_ran)"
   ]
  },
  {
   "cell_type": "code",
   "execution_count": 69,
   "id": "ff12cf9e",
   "metadata": {},
   "outputs": [
    {
     "name": "stdout",
     "output_type": "stream",
     "text": [
      "\n",
      "The confusion matrix:\n",
      " [[2655  236]\n",
      " [ 666  380]]\n",
      "\n",
      "Classification report:\n",
      "               precision    recall  f1-score   support\n",
      "\n",
      "           0       0.80      0.92      0.85      2891\n",
      "           1       0.62      0.36      0.46      1046\n",
      "\n",
      "    accuracy                           0.77      3937\n",
      "   macro avg       0.71      0.64      0.66      3937\n",
      "weighted avg       0.75      0.77      0.75      3937\n",
      "\n",
      "Accuracy of Random Forest classifier on training set: 0.7708915417830836\n"
     ]
    }
   ],
   "source": [
    "#print(rf.feature_importances_)\n",
    "\n",
    "print('\\nThe confusion matrix:\\n',confusion_matrix(y_train_ran, y_pred_ran))\n",
    "print('\\nClassification report:\\n',classification_report(y_train_ran, y_pred_ran))\n",
    "\n",
    "print('Accuracy of Random Forest classifier on training set:',rf.score(X_train_ran, y_train_ran))"
   ]
  },
  {
   "cell_type": "markdown",
   "id": "c2ebbb76",
   "metadata": {},
   "source": [
    "# Random Forest Validation"
   ]
  },
  {
   "cell_type": "code",
   "execution_count": 70,
   "id": "2403a9e1",
   "metadata": {},
   "outputs": [
    {
     "name": "stdout",
     "output_type": "stream",
     "text": [
      "[[1111  128]\n",
      " [ 285  164]]\n",
      "              precision    recall  f1-score   support\n",
      "\n",
      "           0       0.80      0.90      0.84      1239\n",
      "           1       0.56      0.37      0.44       449\n",
      "\n",
      "    accuracy                           0.76      1688\n",
      "   macro avg       0.68      0.63      0.64      1688\n",
      "weighted avg       0.73      0.76      0.74      1688\n",
      "\n",
      "\n",
      "Accuracy of Random Forest classifier on validate set: 0.7553317535545023\n"
     ]
    }
   ],
   "source": [
    "y_pred_ran = rf.predict(X_validate)\n",
    "\n",
    "print(confusion_matrix(y_validate, y_pred_ran))\n",
    "print(classification_report(y_validate, y_pred_ran))\n",
    "\n",
    "print('\\nAccuracy of Random Forest classifier on validate set:',rf.score(X_validate, y_validate))"
   ]
  },
  {
   "cell_type": "markdown",
   "id": "8dc60810",
   "metadata": {},
   "source": [
    "# KNN Model"
   ]
  },
  {
   "cell_type": "code",
   "execution_count": 71,
   "id": "a070d79f",
   "metadata": {},
   "outputs": [],
   "source": [
    "X_train_knn = X_train[['online_security','tech_support','device_protection','monthly_charges']]\n",
    "y_train_knn = train.churn"
   ]
  },
  {
   "cell_type": "code",
   "execution_count": 72,
   "id": "c3db636d",
   "metadata": {},
   "outputs": [],
   "source": [
    "knn = KNeighborsClassifier(n_neighbors=10)\n",
    "\n",
    "knn.fit(X_train_knn, y_train_knn)\n",
    "\n",
    "y_pred_knn = knn.predict(X_train_knn)\n",
    "\n",
    "y_pred_proba_knn = knn.predict_proba(X_train_knn)"
   ]
  },
  {
   "cell_type": "code",
   "execution_count": 73,
   "id": "e5303755",
   "metadata": {},
   "outputs": [
    {
     "name": "stdout",
     "output_type": "stream",
     "text": [
      "\n",
      "The confusion matrix:\n",
      " [[2705  186]\n",
      " [ 650  396]]\n",
      "\n",
      "Classification report:\n",
      "               precision    recall  f1-score   support\n",
      "\n",
      "           0       0.81      0.94      0.87      2891\n",
      "           1       0.68      0.38      0.49      1046\n",
      "\n",
      "    accuracy                           0.79      3937\n",
      "   macro avg       0.74      0.66      0.68      3937\n",
      "weighted avg       0.77      0.79      0.77      3937\n",
      "\n",
      "Accuracy of KNN classifier on training set: 0.7876555753111506\n"
     ]
    }
   ],
   "source": [
    "print('\\nThe confusion matrix:\\n',confusion_matrix(y_train_knn, y_pred_knn))\n",
    "print('\\nClassification report:\\n',classification_report(y_train_knn, y_pred_knn))\n",
    "print('Accuracy of KNN classifier on training set:',knn.score(X_train_knn, y_train_knn))"
   ]
  },
  {
   "cell_type": "markdown",
   "id": "98aae74e",
   "metadata": {},
   "source": [
    "# KNN Model Validation"
   ]
  },
  {
   "cell_type": "code",
   "execution_count": 74,
   "id": "dcb51108",
   "metadata": {},
   "outputs": [
    {
     "name": "stdout",
     "output_type": "stream",
     "text": [
      "[[1105  134]\n",
      " [ 306  143]]\n",
      "              precision    recall  f1-score   support\n",
      "\n",
      "           0       0.78      0.89      0.83      1239\n",
      "           1       0.52      0.32      0.39       449\n",
      "\n",
      "    accuracy                           0.74      1688\n",
      "   macro avg       0.65      0.61      0.61      1688\n",
      "weighted avg       0.71      0.74      0.72      1688\n",
      "\n",
      "\n",
      "Accuracy of KNN classifier on validate set: 0.7393364928909952\n"
     ]
    }
   ],
   "source": [
    "y_pred_knn = knn.predict(X_validate)\n",
    "\n",
    "print(confusion_matrix(y_validate, y_pred_knn))\n",
    "print(classification_report(y_validate, y_pred_knn))\n",
    "\n",
    "print('\\nAccuracy of KNN classifier on validate set:',knn.score(X_validate, y_validate))"
   ]
  },
  {
   "cell_type": "markdown",
   "id": "f8ffffc5",
   "metadata": {},
   "source": [
    "# Test Logistic Regression Model"
   ]
  },
  {
   "cell_type": "code",
   "execution_count": 75,
   "id": "07f602ab",
   "metadata": {},
   "outputs": [],
   "source": [
    "X_test = X_test[['online_security','tech_support','device_protection','monthly_charges']]\n",
    "y_test = test.churn"
   ]
  },
  {
   "cell_type": "code",
   "execution_count": 76,
   "id": "93d61529",
   "metadata": {},
   "outputs": [
    {
     "name": "stdout",
     "output_type": "stream",
     "text": [
      "[[946  87]\n",
      " [255 119]]\n",
      "              precision    recall  f1-score   support\n",
      "\n",
      "           0       0.79      0.92      0.85      1033\n",
      "           1       0.58      0.32      0.41       374\n",
      "\n",
      "    accuracy                           0.76      1407\n",
      "   macro avg       0.68      0.62      0.63      1407\n",
      "weighted avg       0.73      0.76      0.73      1407\n",
      "\n",
      "\n",
      "Accuracy of Logistic Regression classifier on test set: 0.7569296375266524\n"
     ]
    }
   ],
   "source": [
    "y_pred = logit.predict(X_test)\n",
    "\n",
    "print(confusion_matrix(y_test, y_pred))\n",
    "print(classification_report(y_test, y_pred))\n",
    "\n",
    "print('\\nAccuracy of Logistic Regression classifier on test set:',logit.score(X_test, y_test))"
   ]
  },
  {
   "cell_type": "markdown",
   "id": "30c6507b",
   "metadata": {},
   "source": [
    "#### Basline accuracy is 73.43%\n",
    "### Logistic Regression model accuracy is 77.40%"
   ]
  },
  {
   "cell_type": "markdown",
   "id": "422c162b",
   "metadata": {},
   "source": [
    "# Prediction CSV File"
   ]
  },
  {
   "cell_type": "code",
   "execution_count": 77,
   "id": "675bb01d",
   "metadata": {},
   "outputs": [
    {
     "data": {
      "text/html": [
       "<div>\n",
       "<style scoped>\n",
       "    .dataframe tbody tr th:only-of-type {\n",
       "        vertical-align: middle;\n",
       "    }\n",
       "\n",
       "    .dataframe tbody tr th {\n",
       "        vertical-align: top;\n",
       "    }\n",
       "\n",
       "    .dataframe thead th {\n",
       "        text-align: right;\n",
       "    }\n",
       "</style>\n",
       "<table border=\"1\" class=\"dataframe\">\n",
       "  <thead>\n",
       "    <tr style=\"text-align: right;\">\n",
       "      <th></th>\n",
       "      <th>payment_type_id</th>\n",
       "      <th>contract_type_id</th>\n",
       "      <th>customer_id</th>\n",
       "      <th>gender</th>\n",
       "      <th>senior_citizen</th>\n",
       "      <th>partner</th>\n",
       "      <th>dependents</th>\n",
       "      <th>tenure_mths</th>\n",
       "      <th>phone_service</th>\n",
       "      <th>multiple_lines</th>\n",
       "      <th>...</th>\n",
       "      <th>streaming_tv</th>\n",
       "      <th>streaming_movies</th>\n",
       "      <th>paperless_billing</th>\n",
       "      <th>monthly_charges</th>\n",
       "      <th>total_charges</th>\n",
       "      <th>churn</th>\n",
       "      <th>internet_service_type</th>\n",
       "      <th>contract_type</th>\n",
       "      <th>automatic_payment</th>\n",
       "      <th>prediction</th>\n",
       "    </tr>\n",
       "  </thead>\n",
       "  <tbody>\n",
       "    <tr>\n",
       "      <th>0</th>\n",
       "      <td>2</td>\n",
       "      <td>2</td>\n",
       "      <td>0002-ORFBO</td>\n",
       "      <td>0</td>\n",
       "      <td>0</td>\n",
       "      <td>1</td>\n",
       "      <td>1</td>\n",
       "      <td>9</td>\n",
       "      <td>1</td>\n",
       "      <td>1</td>\n",
       "      <td>...</td>\n",
       "      <td>1</td>\n",
       "      <td>0</td>\n",
       "      <td>1</td>\n",
       "      <td>65.6</td>\n",
       "      <td>593.3</td>\n",
       "      <td>0</td>\n",
       "      <td>1</td>\n",
       "      <td>1</td>\n",
       "      <td>0</td>\n",
       "      <td>0</td>\n",
       "    </tr>\n",
       "  </tbody>\n",
       "</table>\n",
       "<p>1 rows × 24 columns</p>\n",
       "</div>"
      ],
      "text/plain": [
       "   payment_type_id  contract_type_id customer_id  gender  senior_citizen  \\\n",
       "0                2                 2  0002-ORFBO       0               0   \n",
       "\n",
       "   partner  dependents  tenure_mths  phone_service  multiple_lines  ...  \\\n",
       "0        1           1            9              1               1  ...   \n",
       "\n",
       "   streaming_tv  streaming_movies  paperless_billing  monthly_charges  \\\n",
       "0             1                 0                  1             65.6   \n",
       "\n",
       "   total_charges  churn  internet_service_type  contract_type  \\\n",
       "0          593.3      0                      1              1   \n",
       "\n",
       "   automatic_payment  prediction  \n",
       "0                  0           0  \n",
       "\n",
       "[1 rows x 24 columns]"
      ]
     },
     "execution_count": 77,
     "metadata": {},
     "output_type": "execute_result"
    }
   ],
   "source": [
    "X = telco_df[['online_security','tech_support','device_protection','monthly_charges']]\n",
    "\n",
    "telco_df['prediction'] = logit.predict(X)\n",
    "telco_df.head(1)"
   ]
  },
  {
   "cell_type": "code",
   "execution_count": 78,
   "id": "ce190277",
   "metadata": {},
   "outputs": [
    {
     "data": {
      "text/html": [
       "<div>\n",
       "<style scoped>\n",
       "    .dataframe tbody tr th:only-of-type {\n",
       "        vertical-align: middle;\n",
       "    }\n",
       "\n",
       "    .dataframe tbody tr th {\n",
       "        vertical-align: top;\n",
       "    }\n",
       "\n",
       "    .dataframe thead th {\n",
       "        text-align: right;\n",
       "    }\n",
       "</style>\n",
       "<table border=\"1\" class=\"dataframe\">\n",
       "  <thead>\n",
       "    <tr style=\"text-align: right;\">\n",
       "      <th></th>\n",
       "      <th>customer_id</th>\n",
       "      <th>prediction</th>\n",
       "    </tr>\n",
       "  </thead>\n",
       "  <tbody>\n",
       "    <tr>\n",
       "      <th>0</th>\n",
       "      <td>0002-ORFBO</td>\n",
       "      <td>0</td>\n",
       "    </tr>\n",
       "    <tr>\n",
       "      <th>1</th>\n",
       "      <td>0003-MKNFE</td>\n",
       "      <td>0</td>\n",
       "    </tr>\n",
       "    <tr>\n",
       "      <th>2</th>\n",
       "      <td>0004-TLHLJ</td>\n",
       "      <td>0</td>\n",
       "    </tr>\n",
       "    <tr>\n",
       "      <th>3</th>\n",
       "      <td>0011-IGKFF</td>\n",
       "      <td>0</td>\n",
       "    </tr>\n",
       "    <tr>\n",
       "      <th>4</th>\n",
       "      <td>0013-EXCHZ</td>\n",
       "      <td>0</td>\n",
       "    </tr>\n",
       "  </tbody>\n",
       "</table>\n",
       "</div>"
      ],
      "text/plain": [
       "  customer_id  prediction\n",
       "0  0002-ORFBO           0\n",
       "1  0003-MKNFE           0\n",
       "2  0004-TLHLJ           0\n",
       "3  0011-IGKFF           0\n",
       "4  0013-EXCHZ           0"
      ]
     },
     "execution_count": 78,
     "metadata": {},
     "output_type": "execute_result"
    }
   ],
   "source": [
    "predictions = telco_df[['customer_id', 'prediction']]\n",
    "predictions.head()"
   ]
  },
  {
   "cell_type": "code",
   "execution_count": 79,
   "id": "e133a483",
   "metadata": {},
   "outputs": [],
   "source": [
    "predictions.to_csv('predictions.csv')"
   ]
  },
  {
   "cell_type": "markdown",
   "id": "82cf8ea5",
   "metadata": {},
   "source": [
    "## these are the steps I took following the data science pipeline"
   ]
  },
  {
   "cell_type": "code",
   "execution_count": null,
   "id": "bf60acc1",
   "metadata": {},
   "outputs": [],
   "source": []
  }
 ],
 "metadata": {
  "kernelspec": {
   "display_name": "Python 3 (ipykernel)",
   "language": "python",
   "name": "python3"
  },
  "language_info": {
   "codemirror_mode": {
    "name": "ipython",
    "version": 3
   },
   "file_extension": ".py",
   "mimetype": "text/x-python",
   "name": "python",
   "nbconvert_exporter": "python",
   "pygments_lexer": "ipython3",
   "version": "3.9.7"
  }
 },
 "nbformat": 4,
 "nbformat_minor": 5
}
